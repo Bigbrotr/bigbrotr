{
 "cells": [
  {
   "cell_type": "code",
   "execution_count": 1,
   "id": "07324c34",
   "metadata": {},
   "outputs": [],
   "source": [
    "from bigbrotr import Bigbrotr\n",
    "from event import Event\n",
    "from relay import Relay\n",
    "from relay_metadata import RelayMetadata"
   ]
  },
  {
   "cell_type": "code",
   "execution_count": 49,
   "id": "70f7e87f",
   "metadata": {},
   "outputs": [
    {
     "name": "stdout",
     "output_type": "stream",
     "text": [
      "Connecting to wss://google.com over clearnet...\n",
      "Error: Handshake status 400 Bad Request -+-+- {'content-type': 'text/html; charset=UTF-8', 'referrer-policy': 'no-referrer', 'content-length': '1555', 'date': 'Sun, 04 May 2025 17:17:46 GMT', 'alt-svc': 'h3=\":443\"; ma=2592000,h3-29=\":443\"; ma=2592000', 'connection': 'close'} -+-+- b'<!DOCTYPE html>\\n<html lang=en>\\n  <meta charset=utf-8>\\n  <meta name=viewport content=\"initial-scale=1, minimum-scale=1, width=device-width\">\\n  <title>Error 400 (Bad Request)!!1</title>\\n  <style>\\n    *{margin:0;padding:0}html,code{font:15px/22px arial,sans-serif}html{background:#fff;color:#222;padding:15px}body{margin:7% auto 0;max-width:390px;min-height:180px;padding:30px 0 15px}* > body{background:url(//www.google.com/images/errors/robot.png) 100% 5px no-repeat;padding-right:205px}p{margin:11px 0 22px;overflow:hidden}ins{color:#777;text-decoration:none}a img{border:0}@media screen and (max-width:772px){body{background:none;margin-top:0;max-width:none;padding-right:0}}#logo{background:url(//www.google.com/images/branding/googlelogo/1x/googlelogo_color_150x54dp.png) no-repeat;margin-left:-5px}@media only screen and (min-resolution:192dpi){#logo{background:url(//www.google.com/images/branding/googlelogo/2x/googlelogo_color_150x54dp.png) no-repeat 0% 0%/100% 100%;-moz-border-image:url(//www.google.com/images/branding/googlelogo/2x/googlelogo_color_150x54dp.png) 0}}@media only screen and (-webkit-min-device-pixel-ratio:2'\n",
      "Connection closed.\n",
      "Connection closed.\n",
      "Fetched 0 events.\n"
     ]
    }
   ],
   "source": [
    "import sys\n",
    "import json\n",
    "import time\n",
    "import websocket\n",
    "import ssl\n",
    "import socks  # Provided by PySocks\n",
    "import socket\n",
    "\n",
    "def fetch_nostr_events(url, network, start, stop):\n",
    "    # Generate a random subscription ID\n",
    "    events = []\n",
    "    sub_id = \"\" + str(int(time.time()))\n",
    "\n",
    "    # Filter to get all events between start and stop\n",
    "    req = [\n",
    "        \"REQ\",\n",
    "        sub_id,\n",
    "        {\n",
    "            \"since\": int(start),\n",
    "            \"until\": int(stop)\n",
    "        }\n",
    "    ]\n",
    "\n",
    "    close_req = [\"CLOSE\", sub_id]\n",
    "\n",
    "    # Configure proxy if using Tor\n",
    "    if network.lower() == \"tor\":\n",
    "        socks.set_default_proxy(socks.SOCKS5, \"127.0.0.1\", 9050)\n",
    "        socket.socket = socks.socksocket\n",
    "        sslopt = {\"cert_reqs\": ssl.CERT_NONE}\n",
    "    else:\n",
    "        sslopt = {\"cert_reqs\": ssl.CERT_REQUIRED}\n",
    "\n",
    "    def on_message(ws, message):\n",
    "        data = json.loads(message)\n",
    "        if data[0] == \"EVENT\":\n",
    "            try:\n",
    "                Event.from_dict(data[2])\n",
    "            except Exception as e:\n",
    "                print(data[2])\n",
    "            events.append(data[2])\n",
    "        elif data[0] == \"EOSE\":\n",
    "            print(\"End of stored events.\")\n",
    "            ws.send(json.dumps(close_req))\n",
    "            ws.close()\n",
    "\n",
    "    def on_error(ws, error):\n",
    "        print(\"Error:\", error)\n",
    "\n",
    "    def on_close(ws, close_status_code, close_msg):\n",
    "        print(\"Connection closed.\")\n",
    "\n",
    "\n",
    "    def on_open(ws):\n",
    "        ws.send(json.dumps(req))\n",
    "\n",
    "    print(f\"Connecting to {url} over {network}...\")\n",
    "    ws = websocket.WebSocketApp(\n",
    "        url,\n",
    "        on_message=on_message,\n",
    "        on_error=on_error,\n",
    "        on_close=on_close,\n",
    "        on_open=on_open\n",
    "    )\n",
    "\n",
    "    ws.run_forever(sslopt=sslopt)\n",
    "    print(\"Connection closed.\")\n",
    "    print(f\"Fetched {len(events)} events.\")\n",
    "    return events\n",
    "\n",
    "# Example usage:\n",
    "events = fetch_nostr_events(\"wss://google.com\", \"clearnet\", time.time()-100, time.time())\n"
   ]
  }
 ],
 "metadata": {
  "kernelspec": {
   "display_name": "Python 3",
   "language": "python",
   "name": "python3"
  },
  "language_info": {
   "codemirror_mode": {
    "name": "ipython",
    "version": 3
   },
   "file_extension": ".py",
   "mimetype": "text/x-python",
   "name": "python",
   "nbconvert_exporter": "python",
   "pygments_lexer": "ipython3",
   "version": "3.12.3"
  }
 },
 "nbformat": 4,
 "nbformat_minor": 5
}
