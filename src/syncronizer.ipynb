{
 "cells": [
  {
   "cell_type": "code",
   "execution_count": null,
   "id": "70f7e87f",
   "metadata": {},
   "outputs": [
    {
     "name": "stdout",
     "output_type": "stream",
     "text": [
      "Connecting to wss://puravida.nostr.land over clearnet...\n",
      "Message received: [\"AUTH\",\"sD5AXRwcqPOHlQYysxc-qG\"]\n",
      "Message received: [\"EOSE\",\"1747572830\"]\n",
      "End of stored events.\n",
      "Connection closed.\n",
      "Connection closed.\n",
      "Fetched 0 events.\n"
     ]
    },
    {
     "data": {
      "text/plain": [
       "[]"
      ]
     },
     "execution_count": 6,
     "metadata": {},
     "output_type": "execute_result"
    }
   ],
   "source": [
    "import json\n",
    "import time\n",
    "import websocket\n",
    "import ssl\n",
    "import socks  # Provided by PySocks\n",
    "import socket\n",
    "from event import Event\n",
    "\n",
    "def fetch_nostr_events(url, network, start, stop):\n",
    "    # Generate a random subscription ID\n",
    "    events = []\n",
    "    sub_id = \"\" + str(int(time.time()))\n",
    "\n",
    "    # Filter to get all events between start and stop\n",
    "    req = [\n",
    "        \"REQ\",\n",
    "        sub_id,\n",
    "        {\n",
    "            \"since\": int(start),\n",
    "            \"until\": int(stop)\n",
    "        }\n",
    "    ]\n",
    "\n",
    "    close_req = [\"CLOSE\", sub_id]\n",
    "\n",
    "    # Configure proxy if using Tor\n",
    "    if network.lower() == \"tor\":\n",
    "        socks.set_default_proxy(socks.SOCKS5, \"127.0.0.1\", 9050)\n",
    "        socket.socket = socks.socksocket\n",
    "        sslopt = {\"cert_reqs\": ssl.CERT_NONE}\n",
    "    else:\n",
    "        sslopt = {\"cert_reqs\": ssl.CERT_REQUIRED}\n",
    "\n",
    "    def on_message(ws, message):\n",
    "        print(\"Message received:\", message)\n",
    "        data = json.loads(message)\n",
    "        if data[0] == \"EVENT\":\n",
    "            try:\n",
    "                Event.from_dict(data[2])\n",
    "            except Exception as e:\n",
    "                print(e, data[2])\n",
    "            print(\"Event:\", data[2])\n",
    "            events.append(data[2])\n",
    "        elif data[0] == \"EOSE\":\n",
    "            print(\"End of stored events.\")\n",
    "            ws.send(json.dumps(close_req))\n",
    "            ws.close()\n",
    "\n",
    "    def on_error(ws, error):\n",
    "        print(\"Error:\", error)\n",
    "\n",
    "    def on_close(ws, close_status_code, close_msg):\n",
    "        print(\"Connection closed.\")\n",
    "\n",
    "\n",
    "    def on_open(ws):\n",
    "        ws.send(json.dumps(req))\n",
    "\n",
    "    print(f\"Connecting to {url} over {network}...\")\n",
    "    ws = websocket.WebSocketApp(\n",
    "        url,\n",
    "        on_message=on_message,\n",
    "        on_error=on_error,\n",
    "        on_close=on_close,\n",
    "        on_open=on_open\n",
    "    )\n",
    "\n",
    "    ws.run_forever(sslopt=sslopt)\n",
    "    print(\"Connection closed.\")\n",
    "    print(f\"Fetched {len(events)} events.\")\n",
    "    return events\n",
    "\n",
    "# Example usage:\n",
    "events = fetch_nostr_events('wss://puravida.nostr.land', \"clearnet\", 1747296164-100, 1747296164)\n",
    "events"
   ]
  }
 ],
 "metadata": {
  "kernelspec": {
   "display_name": "venv",
   "language": "python",
   "name": "python3"
  },
  "language_info": {
   "codemirror_mode": {
    "name": "ipython",
    "version": 3
   },
   "file_extension": ".py",
   "mimetype": "text/x-python",
   "name": "python",
   "nbconvert_exporter": "python",
   "pygments_lexer": "ipython3",
   "version": "3.12.3"
  }
 },
 "nbformat": 4,
 "nbformat_minor": 5
}
