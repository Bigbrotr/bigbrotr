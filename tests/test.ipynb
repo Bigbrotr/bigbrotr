{
 "cells": [
  {
   "cell_type": "code",
   "execution_count": null,
   "id": "900ad03a",
   "metadata": {},
   "outputs": [],
   "source": [
    "import sys\n",
    "sys.path.append(\"../src\")\n",
    "from bigbrotr import Bigbrotr\n",
    "from event import Event\n",
    "from relay import Relay\n",
    "from relay_metadata import RelayMetadata\n",
    "import utils\n",
    "import time"
   ]
  },
  {
   "cell_type": "markdown",
   "id": "139d4e34",
   "metadata": {},
   "source": [
    "# Utils"
   ]
  },
  {
   "cell_type": "code",
   "execution_count": null,
   "id": "fda519c0",
   "metadata": {},
   "outputs": [],
   "source": [
    "private_key, public_key = utils.generate_nostr_keypair()\n",
    "e = utils.generate_event(private_key, public_key, 1, [], \"test\")\n",
    "assert utils.verify_sig(e['id'], e['pubkey'], e['sig']), \"Signature verification failed\"\n",
    "assert utils.calc_event_id(e['pubkey'], e['created_at'], e['kind'], e['tags'], e['content']) == e['id'], \"Event ID calculation failed\"\n",
    "e = Event(e['id'], e['pubkey'], e['created_at'], e['kind'], e['tags'], e['content'], e['sig'])\n",
    "e"
   ]
  },
  {
   "cell_type": "markdown",
   "id": "7bbb9854",
   "metadata": {},
   "source": [
    "# Database"
   ]
  },
  {
   "cell_type": "code",
   "execution_count": null,
   "id": "a5d62456",
   "metadata": {},
   "outputs": [],
   "source": [
    "bigbrotr = Bigbrotr(\n",
    "    host=\"localhost\",\n",
    "    port=5432,\n",
    "    user=\"admin\",\n",
    "    password=\"admin\",\n",
    "    dbname=\"bigbrotr\"\n",
    ")"
   ]
  },
  {
   "cell_type": "code",
   "execution_count": null,
   "id": "fabb4c40",
   "metadata": {},
   "outputs": [],
   "source": [
    "bigbrotr.connect()"
   ]
  },
  {
   "cell_type": "code",
   "execution_count": null,
   "id": "500a8793",
   "metadata": {},
   "outputs": [],
   "source": [
    "query = \"SELECT * FROM relay_metadata\"\n",
    "bigbrotr.execute(query)\n",
    "rows = bigbrotr.fetchall()\n",
    "for row in rows:\n",
    "    print(row)"
   ]
  },
  {
   "cell_type": "code",
   "execution_count": null,
   "id": "273aa7b3",
   "metadata": {},
   "outputs": [],
   "source": [
    "# valuecount of relay metadate partitioned by network, openable, readable and writable (network is in relay table (joinable by relay_url in relaymetadata and url in relay))\n",
    "query = \"\"\"\n",
    "SELECT r.network, rm.openable, rm.readable, rm.writable, COUNT(*) as valuecount\n",
    "FROM relay_metadata rm\n",
    "JOIN relays r ON rm.relay_url = r.url\n",
    "GROUP BY r.network, rm.openable, rm.readable, rm.writable\n",
    "\"\"\"\n",
    "bigbrotr.execute(query)\n",
    "rows = bigbrotr.fetchall()\n",
    "for row in rows:\n",
    "    print(row)"
   ]
  },
  {
   "cell_type": "code",
   "execution_count": null,
   "id": "da1da8a9",
   "metadata": {},
   "outputs": [],
   "source": [
    "query = \"\"\"\n",
    "SELECT *\n",
    "FROM relay_metadata\n",
    "WHERE connection_success = false\n",
    "\"\"\"\n",
    "bigbrotr.execute(query)\n",
    "rows = bigbrotr.fetchall()\n",
    "for row in rows:\n",
    "    print(row)"
   ]
  },
  {
   "cell_type": "code",
   "execution_count": null,
   "id": "0737e63c",
   "metadata": {},
   "outputs": [],
   "source": [
    "bigbrotr.close()"
   ]
  },
  {
   "cell_type": "markdown",
   "id": "7ce3172c",
   "metadata": {},
   "source": [
    "# relay_urls"
   ]
  },
  {
   "cell_type": "code",
   "execution_count": null,
   "id": "742d51bf",
   "metadata": {},
   "outputs": [],
   "source": [
    "import pandas as pd\n",
    "relays_url = pd.read_csv(\"../seed/relays_url.csv\")\n",
    "relays_url = relays_url.groupby('relay_url').agg({'count': 'sum'}).reset_index()\n",
    "relays_url = relays_url.sort_values(by='count', ascending=False).reset_index(drop=True)\n",
    "relays_url.to_csv(\"../seed/relays_url.csv\", index=False)"
   ]
  },
  {
   "cell_type": "markdown",
   "id": "7c71f239",
   "metadata": {},
   "source": [
    "# compute_relay_metadata"
   ]
  },
  {
   "cell_type": "code",
   "execution_count": null,
   "id": "e6779178",
   "metadata": {},
   "outputs": [],
   "source": [
    "from relay import Relay\n",
    "from aiohttp import ClientSession\n",
    "\n",
    "relay = Relay('wss://puravida.nostr.land')\n",
    "\n",
    "async def fetch_nip11_metadata(relay_id, session, timeout):\n",
    "    headers = {'Accept': 'application/nostr+json'}\n",
    "    for schema in ['https://', 'http://']:\n",
    "        try:\n",
    "            async with session.get(schema + relay_id, headers=headers, timeout=timeout) as response:\n",
    "                if response.status == 200:\n",
    "                    return await response.json()\n",
    "                else:\n",
    "                    pass\n",
    "        except Exception as e:\n",
    "            pass\n",
    "    return None\n",
    "\n",
    "relay_id = relay.url.removeprefix('wss://')\n",
    "nip11_raw = None\n",
    "async with ClientSession() as session:\n",
    "    nip11_raw = await fetch_nip11_metadata(relay_id, session, 10)\n",
    "nip11_raw"
   ]
  },
  {
   "cell_type": "code",
   "execution_count": null,
   "id": "ec888201",
   "metadata": {},
   "outputs": [],
   "source": [
    "from compute_relay_metadata import compute_relay_metadata\n",
    "\n",
    "sec, pub = utils.generate_nostr_keypair()\n",
    "metadata = await compute_relay_metadata(relay, sec, pub, socks5_proxy_url=None, timeout=10)\n",
    "metadata.to_dict()"
   ]
  },
  {
   "cell_type": "code",
   "execution_count": null,
   "id": "7c37fdde",
   "metadata": {},
   "outputs": [],
   "source": [
    "import multiprocessing\n",
    "from utils import generate_nostr_keypair\n",
    "\n",
    "TARGET_PREFIX = \"0000000000\"\n",
    "\n",
    "def worker(prefix, result_queue):\n",
    "    while True:\n",
    "        sec, pub = generate_nostr_keypair()\n",
    "        if pub.startswith(TARGET_PREFIX):\n",
    "            result_queue.put((sec, pub))\n",
    "            break\n",
    "\n",
    "if __name__ == '__main__':\n",
    "    result_queue = multiprocessing.Queue()\n",
    "    num_processes = multiprocessing.cpu_count()\n",
    "\n",
    "    processes = []\n",
    "    for _ in range(num_processes):\n",
    "        p = multiprocessing.Process(target=worker, args=(TARGET_PREFIX, result_queue))\n",
    "        p.start()\n",
    "        processes.append(p)\n",
    "\n",
    "    # Aspetta il primo risultato\n",
    "    sec, pub = result_queue.get()\n",
    "    print(f\"Match trovato!\\nPrivate Key: {sec}\\nPublic Key: {pub}\")\n",
    "\n",
    "    # Termina tutti gli altri processi\n",
    "    for p in processes:\n",
    "        p.terminate()"
   ]
  }
 ],
 "metadata": {
  "kernelspec": {
   "display_name": "venv",
   "language": "python",
   "name": "python3"
  },
  "language_info": {
   "codemirror_mode": {
    "name": "ipython",
    "version": 3
   },
   "file_extension": ".py",
   "mimetype": "text/x-python",
   "name": "python",
   "nbconvert_exporter": "python",
   "pygments_lexer": "ipython3",
   "version": "3.12.3"
  }
 },
 "nbformat": 4,
 "nbformat_minor": 5
}
