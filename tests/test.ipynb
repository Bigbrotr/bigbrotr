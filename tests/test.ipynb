{
 "cells": [
  {
   "cell_type": "code",
   "execution_count": 19,
   "id": "900ad03a",
   "metadata": {},
   "outputs": [],
   "source": [
    "import sys\n",
    "sys.path.append(\"../src\")\n",
    "from bigbrotr import Bigbrotr\n",
    "from event import Event\n",
    "from relay import Relay\n",
    "from relay_metadata import RelayMetadata\n",
    "import utils\n",
    "import pandas as pd"
   ]
  },
  {
   "cell_type": "markdown",
   "id": "139d4e34",
   "metadata": {},
   "source": [
    "# Utils"
   ]
  },
  {
   "cell_type": "code",
   "execution_count": null,
   "id": "fda519c0",
   "metadata": {},
   "outputs": [],
   "source": [
    "private_key, public_key = utils.generate_nostr_keypair()\n",
    "e = utils.generate_event(private_key, public_key, 1, [], \"test\")\n",
    "assert utils.verify_sig(e['id'], e['pubkey'], e['sig']), \"Signature verification failed\"\n",
    "assert utils.calc_event_id(e['pubkey'], e['created_at'], e['kind'], e['tags'], e['content']) == e['id'], \"Event ID calculation failed\"\n",
    "e = Event(e['id'], e['pubkey'], e['created_at'], e['kind'], e['tags'], e['content'], e['sig'])\n",
    "e"
   ]
  },
  {
   "cell_type": "markdown",
   "id": "7bbb9854",
   "metadata": {},
   "source": [
    "# Database"
   ]
  },
  {
   "cell_type": "code",
   "execution_count": 163,
   "id": "a5d62456",
   "metadata": {},
   "outputs": [],
   "source": [
    "bigbrotr = Bigbrotr(\n",
    "    host=\"localhost\",\n",
    "    port=5431,\n",
    "    user=\"admin\",\n",
    "    password=\"admin\",\n",
    "    dbname=\"bigbrotr\"\n",
    ")"
   ]
  },
  {
   "cell_type": "code",
   "execution_count": 164,
   "id": "fabb4c40",
   "metadata": {},
   "outputs": [],
   "source": [
    "bigbrotr.connect()"
   ]
  },
  {
   "cell_type": "code",
   "execution_count": 24,
   "id": "bed0d590",
   "metadata": {},
   "outputs": [
    {
     "data": {
      "text/plain": [
       "70"
      ]
     },
     "execution_count": 24,
     "metadata": {},
     "output_type": "execute_result"
    }
   ],
   "source": [
    "query = \"SELECT * FROM relay_metadata\"\n",
    "bigbrotr.execute(query)\n",
    "rows = bigbrotr.fetchall()\n",
    "# for row in rows:\n",
    "#     print(row)\n",
    "len(rows)"
   ]
  },
  {
   "cell_type": "code",
   "execution_count": 165,
   "id": "d5854f3a",
   "metadata": {},
   "outputs": [
    {
     "name": "stdout",
     "output_type": "stream",
     "text": [
      "Number of events in the database: 2012171\n"
     ]
    }
   ],
   "source": [
    "query = \"SELECT COUNT(*) FROM events WHERE kind = 1\"\n",
    "bigbrotr.execute(query)\n",
    "rows = bigbrotr.fetchall()\n",
    "print(f\"Number of events in the database: {rows[0][0]}\")"
   ]
  },
  {
   "cell_type": "code",
   "execution_count": 170,
   "id": "847e5ee9",
   "metadata": {},
   "outputs": [
    {
     "name": "stdout",
     "output_type": "stream",
     "text": [
      "Database size: 12 GB\n",
      "Size of all tables and indexes:\n",
      "events: 5288 MB\n",
      "events_relays: 4571 MB\n",
      "event_contents: 1912 MB\n",
      "relays: 1320 kB\n",
      "relay_metadata: 576 kB\n",
      "\n",
      "Average size of each column in the events table:\n",
      "(Decimal('65.0000000000000000'), Decimal('65.0000000000000000'), Decimal('8.0000000000000000'), Decimal('4.0000000000000000'), Decimal('369.5635715703669455'), Decimal('132.0000000000000000'))\n",
      "Average size of each column in the event_contents table:\n",
      "(Decimal('65.0000000000000000'), Decimal('136.2278012119135816'))\n",
      "Average size of each column in the relay_metadata table:\n",
      "(Decimal('30.3234421364985163'), Decimal('8.0000000000000000'), Decimal('1.00000000000000000000'), Decimal('1.00000000000000000000'), Decimal('1.00000000000000000000'), Decimal('1.00000000000000000000'), Decimal('1.00000000000000000000'), Decimal('4.0000000000000000'), Decimal('4.0000000000000000'), Decimal('4.0000000000000000'), Decimal('20.8238095238095238'), Decimal('49.7359855334538879'), Decimal('1.00000000000000000000'), Decimal('48.8725490196078431'), Decimal('61.3493449781659389'), Decimal('23.6935064935064935'), Decimal('9.0000000000000000'), Decimal('42.0015873015873016'), Decimal('7.5773524720893142'), Decimal('31.0000000000000000'), Decimal('26.4000000000000000'), Decimal('127.6957446808510638'), Decimal('58.2252396166134185'))\n",
      "Average size of each column in the relays table:\n",
      "(Decimal('30.6102650874224478'), Decimal('8.4760293288212070'), Decimal('8.0000000000000000'))\n"
     ]
    }
   ],
   "source": [
    "query = \"SELECT pg_size_pretty(pg_database_size(current_database())) AS db_size\"\n",
    "bigbrotr.execute(query)\n",
    "result = bigbrotr.fetchall()\n",
    "print(f\"Database size: {result[0][0]}\")\n",
    "\n",
    "# print the size of all tables and indexes\n",
    "query = \"\"\"\n",
    "SELECT\n",
    "    pg_size_pretty(pg_total_relation_size(relid)) AS size,\n",
    "    relname AS table_name\n",
    "FROM\n",
    "    pg_stat_user_tables\n",
    "ORDER BY\n",
    "    pg_total_relation_size(relid) DESC\n",
    "\"\"\"\n",
    "bigbrotr.execute(query)\n",
    "result = bigbrotr.fetchall()\n",
    "print(\"Size of all tables and indexes:\")\n",
    "for row in result:\n",
    "    print(f\"{row[1]}: {row[0]}\")\n",
    "\n",
    "print()\n",
    "# for each table show the size of all columns\n",
    "for table in ['events', 'event_contents', 'relay_metadata', 'relays']:\n",
    "    query = f\"\"\"\n",
    "    SELECT \n",
    "        'SELECT ' || \n",
    "        string_agg(\n",
    "            'AVG(pg_column_size(\"' || column_name || '\")) AS ' || column_name || '_bytes',\n",
    "            ', '\n",
    "        ) || \n",
    "        ' FROM {table};'\n",
    "    AS query\n",
    "    FROM information_schema.columns\n",
    "    WHERE table_name = '{table}' AND table_schema = 'public';  -- cambia schema se necessario\n",
    "    \"\"\"\n",
    "    bigbrotr.execute(query)\n",
    "    result = bigbrotr.fetchall()\n",
    "    print(f\"Average size of each column in the {table} table:\")\n",
    "    for row in result:\n",
    "        query = row[0]\n",
    "        bigbrotr.execute(query)\n",
    "        result = bigbrotr.fetchall()\n",
    "        for r in result:\n",
    "            print(r)"
   ]
  },
  {
   "cell_type": "code",
   "execution_count": 166,
   "id": "7749acb6",
   "metadata": {},
   "outputs": [
    {
     "data": {
      "text/plain": [
       "[('12 GB',)]"
      ]
     },
     "execution_count": 166,
     "metadata": {},
     "output_type": "execute_result"
    }
   ],
   "source": [
    "query = \"SELECT pg_size_pretty(pg_database_size(current_database())) AS db_size;\"\n",
    "bigbrotr.execute(query)\n",
    "rows = bigbrotr.fetchall()\n",
    "rows"
   ]
  },
  {
   "cell_type": "code",
   "execution_count": 27,
   "id": "0737e63c",
   "metadata": {},
   "outputs": [],
   "source": [
    "bigbrotr.close()"
   ]
  },
  {
   "cell_type": "markdown",
   "id": "7ce3172c",
   "metadata": {},
   "source": [
    "# relay_urls"
   ]
  },
  {
   "cell_type": "code",
   "execution_count": null,
   "id": "742d51bf",
   "metadata": {},
   "outputs": [],
   "source": [
    "import pandas as pd\n",
    "relays_url = pd.read_csv(\"../seed/relays_url.csv\")\n",
    "relays_url = relays_url.groupby('relay_url').agg({'count': 'sum'}).reset_index()\n",
    "relays_url = relays_url.sort_values(by='count', ascending=False).reset_index(drop=True)\n",
    "relays_url.to_csv(\"../seed/relays_url.csv\", index=False)"
   ]
  }
 ],
 "metadata": {
  "kernelspec": {
   "display_name": "venv",
   "language": "python",
   "name": "python3"
  },
  "language_info": {
   "codemirror_mode": {
    "name": "ipython",
    "version": 3
   },
   "file_extension": ".py",
   "mimetype": "text/x-python",
   "name": "python",
   "nbconvert_exporter": "python",
   "pygments_lexer": "ipython3",
   "version": "3.12.3"
  }
 },
 "nbformat": 4,
 "nbformat_minor": 5
}
