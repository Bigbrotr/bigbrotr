{
 "cells": [
  {
   "cell_type": "code",
   "execution_count": 16,
   "id": "900ad03a",
   "metadata": {},
   "outputs": [],
   "source": [
    "import sys\n",
    "sys.path.append(\"../src\")\n",
    "from bigbrotr import Bigbrotr\n",
    "from event import Event\n",
    "from relay import Relay\n",
    "from relay_metadata import RelayMetadata\n",
    "import utils\n",
    "import pandas as pd"
   ]
  },
  {
   "cell_type": "markdown",
   "id": "139d4e34",
   "metadata": {},
   "source": [
    "# Utils"
   ]
  },
  {
   "cell_type": "code",
   "execution_count": null,
   "id": "fda519c0",
   "metadata": {},
   "outputs": [],
   "source": [
    "private_key, public_key = utils.generate_nostr_keypair()\n",
    "e = utils.generate_event(private_key, public_key, 1, [], \"test\")\n",
    "assert utils.verify_sig(e['id'], e['pubkey'], e['sig']), \"Signature verification failed\"\n",
    "assert utils.calc_event_id(e['pubkey'], e['created_at'], e['kind'], e['tags'], e['content']) == e['id'], \"Event ID calculation failed\"\n",
    "e = Event(e['id'], e['pubkey'], e['created_at'], e['kind'], e['tags'], e['content'], e['sig'])\n",
    "e"
   ]
  },
  {
   "cell_type": "markdown",
   "id": "7bbb9854",
   "metadata": {},
   "source": [
    "# Database"
   ]
  },
  {
   "cell_type": "code",
   "execution_count": 29,
   "id": "a5d62456",
   "metadata": {},
   "outputs": [],
   "source": [
    "bigbrotr = Bigbrotr(\n",
    "    host=\"localhost\",\n",
    "    port=5432,\n",
    "    user=\"admin\",\n",
    "    password=\"admin\",  \n",
    "    dbname=\"bigbrotr\"\n",
    ")"
   ]
  },
  {
   "cell_type": "code",
   "execution_count": 30,
   "id": "fabb4c40",
   "metadata": {},
   "outputs": [],
   "source": [
    "bigbrotr.connect()"
   ]
  },
  {
   "cell_type": "code",
   "execution_count": 31,
   "id": "20361f78",
   "metadata": {},
   "outputs": [
    {
     "name": "stderr",
     "output_type": "stream",
     "text": [
      "/tmp/ipykernel_2345857/1400664167.py:8: UserWarning: pandas only supports SQLAlchemy connectable (engine/connection) or database string URI or sqlite3 DBAPI2 connection. Other DBAPI2 objects are not tested. Please consider using SQLAlchemy.\n",
      "  df = pd.read_sql(query, bigbrotr.conn, params=(now,))\n"
     ]
    },
    {
     "data": {
      "text/html": [
       "<div>\n",
       "<style scoped>\n",
       "    .dataframe tbody tr th:only-of-type {\n",
       "        vertical-align: middle;\n",
       "    }\n",
       "\n",
       "    .dataframe tbody tr th {\n",
       "        vertical-align: top;\n",
       "    }\n",
       "\n",
       "    .dataframe thead th {\n",
       "        text-align: right;\n",
       "    }\n",
       "</style>\n",
       "<table border=\"1\" class=\"dataframe\">\n",
       "  <thead>\n",
       "    <tr style=\"text-align: right;\">\n",
       "      <th></th>\n",
       "      <th>relay_url</th>\n",
       "    </tr>\n",
       "  </thead>\n",
       "  <tbody>\n",
       "  </tbody>\n",
       "</table>\n",
       "</div>"
      ],
      "text/plain": [
       "Empty DataFrame\n",
       "Columns: [relay_url]\n",
       "Index: []"
      ]
     },
     "execution_count": 31,
     "metadata": {},
     "output_type": "execute_result"
    }
   ],
   "source": [
    "query = \"\"\"\n",
    "SELECT DISTINCT relay_url\n",
    "FROM events_relays\n",
    "WHERE seen_at >= %s\n",
    "\"\"\"\n",
    "import time\n",
    "now = int(time.time()) - 120\n",
    "df = pd.read_sql(query, bigbrotr.conn, params=(now,))\n",
    "df"
   ]
  },
  {
   "cell_type": "code",
   "execution_count": 32,
   "id": "aff45a6a",
   "metadata": {},
   "outputs": [
    {
     "name": "stdout",
     "output_type": "stream",
     "text": [
      "📊 Analisi dello spazio per tabella:\n",
      "\n",
      "🧾 TABELLA: events_relays\n",
      "Numero righe: 360619774\n",
      "Colonna               Avg (bytes)  Totale (GB)\n",
      "event_id                    65.00        21.83\n",
      "relay_url                   25.41         8.53\n",
      "seen_at                      8.00         2.69\n",
      "Totale dati stimati: 33.05 GB\n",
      "\n",
      "📦 Indici:\n",
      "Indice                            Size (GB)\n",
      "events_relays_pkey                    40.75\n",
      "idx_events_relays_event_id            11.10\n",
      "idx_events_relays_relay_url            2.40\n",
      "idx_events_relays_seen_at              2.41\n",
      "Totale indici: 56.66 GB\n",
      "Totale complessivo stimato: 89.71 GB\n",
      "\n",
      "────────────────────────────────────────────────────────────\n",
      "🧾 TABELLA: events\n",
      "Numero righe: 100214019\n",
      "Colonna               Avg (bytes)  Totale (GB)\n",
      "id                          65.00         6.07\n",
      "pubkey                      65.00         6.07\n",
      "created_at                   8.00         0.75\n",
      "kind                         4.00         0.37\n",
      "tags                       300.90        28.08\n",
      "content                    318.05        29.68\n",
      "sig                        132.00        12.32\n",
      "Totale dati stimati: 83.34 GB\n",
      "\n",
      "📦 Indici:\n",
      "Indice                            Size (GB)\n",
      "events_pkey                            8.92\n",
      "idx_events_pubkey                      1.85\n",
      "idx_events_created_at                  1.49\n",
      "idx_events_kind                        0.65\n",
      "idx_events_kind_created_at             2.37\n",
      "Totale indici: 15.28 GB\n",
      "Totale complessivo stimato: 98.62 GB\n",
      "\n",
      "────────────────────────────────────────────────────────────\n",
      "🧾 TABELLA: relay_metadata\n",
      "Numero righe: 37226\n",
      "Colonna               Avg (bytes)  Totale (GB)\n",
      "relay_url                   34.53         0.00\n",
      "generated_at                 8.00         0.00\n",
      "connection_success           1.00         0.00\n",
      "nip11_success                1.00         0.00\n",
      "openable                     1.00         0.00\n",
      "readable                     1.00         0.00\n",
      "writable                     1.00         0.00\n",
      "rtt_open                     4.00         0.00\n",
      "rtt_read                     4.00         0.00\n",
      "rtt_write                    4.00         0.00\n",
      "name                        20.28         0.00\n",
      "description                 46.30         0.00\n",
      "banner                       1.78         0.00\n",
      "icon                        53.42         0.00\n",
      "pubkey                      61.12         0.00\n",
      "contact                     21.09         0.00\n",
      "supported_nips               9.00         0.00\n",
      "software                    41.88         0.00\n",
      "version                      7.39         0.00\n",
      "privacy_policy              29.68         0.00\n",
      "terms_of_service            25.00         0.00\n",
      "limitation                 119.70         0.00\n",
      "extra_fields                54.00         0.00\n",
      "Totale dati stimati: 0.02 GB\n",
      "\n",
      "📦 Indici:\n",
      "Indice                            Size (GB)\n",
      "relay_metadata_pkey                    0.00\n",
      "idx_relay_metadata_relay_url           0.00\n",
      "idx_relay_metadata_generated_at         0.00\n",
      "idx_relay_metadata_connection_success         0.00\n",
      "idx_relay_metadata_nip11_success         0.00\n",
      "Totale indici: 0.00 GB\n",
      "Totale complessivo stimato: 0.02 GB\n",
      "\n",
      "────────────────────────────────────────────────────────────\n",
      "🧾 TABELLA: relays\n",
      "Numero righe: 8865\n",
      "Colonna               Avg (bytes)  Totale (GB)\n",
      "url                         30.61         0.00\n",
      "network                      8.48         0.00\n",
      "inserted_at                  8.00         0.00\n",
      "Totale dati stimati: 0.00 GB\n",
      "\n",
      "📦 Indici:\n",
      "Indice                            Size (GB)\n",
      "relays_pkey                            0.00\n",
      "Totale indici: 0.00 GB\n",
      "Totale complessivo stimato: 0.00 GB\n",
      "\n",
      "────────────────────────────────────────────────────────────\n"
     ]
    }
   ],
   "source": [
    "import psycopg2\n",
    "\n",
    "def bytes_to_gb(b):\n",
    "    return b / (1024 ** 3)\n",
    "\n",
    "conn = psycopg2.connect(\n",
    "    dbname=\"bigbrotr\",\n",
    "    user=\"admin\",\n",
    "    password=\"admin\",\n",
    "    host=\"localhost\",\n",
    "    port=5432\n",
    ")\n",
    "cursor = conn.cursor()\n",
    "\n",
    "# Recupera tutte le tabelle nel tuo schema pubblico\n",
    "cursor.execute(\"\"\"\n",
    "    SELECT table_name \n",
    "    FROM information_schema.tables \n",
    "    WHERE table_schema = 'public' AND table_type = 'BASE TABLE'\n",
    "\"\"\")\n",
    "tables = [row[0] for row in cursor.fetchall()]\n",
    "\n",
    "print(\"📊 Analisi dello spazio per tabella:\\n\")\n",
    "\n",
    "for table in tables:\n",
    "    print(f\"🧾 TABELLA: {table}\")\n",
    "    \n",
    "    # Numero righe\n",
    "    cursor.execute(f\"SELECT COUNT(*) FROM {table}\")\n",
    "    total_rows = cursor.fetchone()[0]\n",
    "    print(f\"Numero righe: {total_rows}\")\n",
    "\n",
    "    if total_rows == 0:\n",
    "        print(\" (Tabella vuota)\\n\")\n",
    "        continue\n",
    "\n",
    "    # Calcola dimensione media per colonna\n",
    "    cursor.execute(f\"\"\"\n",
    "        SELECT string_agg(\n",
    "            'AVG(pg_column_size(\\\"' || column_name || '\\\")) AS \\\"' || column_name || '\\\"',\n",
    "            ', '\n",
    "        )\n",
    "        FROM information_schema.columns\n",
    "        WHERE table_name = %s AND table_schema = 'public'\n",
    "    \"\"\", (table,))\n",
    "    agg_expr = cursor.fetchone()[0]\n",
    "\n",
    "    avg_size_query = f\"SELECT {agg_expr} FROM {table}\"\n",
    "    cursor.execute(avg_size_query)\n",
    "    avg_sizes = cursor.fetchone()\n",
    "    colnames = [desc.name for desc in cursor.description]\n",
    "\n",
    "    print(\"{:<20} {:>12} {:>12}\".format(\"Colonna\", \"Avg (bytes)\", \"Totale (GB)\"))\n",
    "    total_data_bytes = 0\n",
    "\n",
    "    for i, col in enumerate(colnames):\n",
    "        avg_bytes = float(avg_sizes[i])\n",
    "        total_bytes = avg_bytes * total_rows\n",
    "        total_data_bytes += total_bytes\n",
    "        print(\"{:<20} {:>12.2f} {:>12.2f}\".format(col, avg_bytes, bytes_to_gb(total_bytes)))\n",
    "\n",
    "    print(f\"Totale dati stimati: {bytes_to_gb(total_data_bytes):.2f} GB\")\n",
    "\n",
    "    # Recupera indici della tabella con dimensione\n",
    "    cursor.execute(f\"\"\"\n",
    "        SELECT \n",
    "            indexname, \n",
    "            pg_relation_size(indexrelid) AS size_bytes\n",
    "        FROM pg_indexes\n",
    "        JOIN pg_class ON pg_class.relname = indexname\n",
    "        JOIN pg_index ON pg_class.oid = pg_index.indexrelid\n",
    "        WHERE tablename = %s\n",
    "    \"\"\", (table,))\n",
    "    index_data = cursor.fetchall()\n",
    "\n",
    "    total_index_bytes = 0\n",
    "    print(\"\\n📦 Indici:\")\n",
    "    print(\"{:<30} {:>12}\".format(\"Indice\", \"Size (GB)\"))\n",
    "    for index_name, size_bytes in index_data:\n",
    "        total_index_bytes += size_bytes\n",
    "        print(\"{:<30} {:>12.2f}\".format(index_name, bytes_to_gb(size_bytes)))\n",
    "\n",
    "    print(f\"Totale indici: {bytes_to_gb(total_index_bytes):.2f} GB\")\n",
    "    print(f\"Totale complessivo stimato: {bytes_to_gb(total_data_bytes + total_index_bytes):.2f} GB\\n\")\n",
    "    print(\"─\" * 60)\n",
    "\n",
    "cursor.close()\n",
    "conn.close()"
   ]
  },
  {
   "cell_type": "code",
   "execution_count": 33,
   "id": "803a1545",
   "metadata": {},
   "outputs": [
    {
     "name": "stderr",
     "output_type": "stream",
     "text": [
      "/tmp/ipykernel_2345857/4116141653.py:12: UserWarning: pandas only supports SQLAlchemy connectable (engine/connection) or database string URI or sqlite3 DBAPI2 connection. Other DBAPI2 objects are not tested. Please consider using SQLAlchemy.\n",
      "  df = pd.read_sql(query, bigbrotr.conn)\n"
     ]
    },
    {
     "data": {
      "text/html": [
       "<div>\n",
       "<style scoped>\n",
       "    .dataframe tbody tr th:only-of-type {\n",
       "        vertical-align: middle;\n",
       "    }\n",
       "\n",
       "    .dataframe tbody tr th {\n",
       "        vertical-align: top;\n",
       "    }\n",
       "\n",
       "    .dataframe thead th {\n",
       "        text-align: right;\n",
       "    }\n",
       "</style>\n",
       "<table border=\"1\" class=\"dataframe\">\n",
       "  <thead>\n",
       "    <tr style=\"text-align: right;\">\n",
       "      <th></th>\n",
       "      <th>relay_url</th>\n",
       "      <th>event_count</th>\n",
       "    </tr>\n",
       "  </thead>\n",
       "  <tbody>\n",
       "    <tr>\n",
       "      <th>0</th>\n",
       "      <td>wss://y5ot37ckvther25mz5mlbgomkr43azjfo7bzhf6x...</td>\n",
       "      <td>1</td>\n",
       "    </tr>\n",
       "    <tr>\n",
       "      <th>1</th>\n",
       "      <td>wss://3amnnymetkm6wgd23tjkb3pyees4kkapltmuya5t...</td>\n",
       "      <td>1</td>\n",
       "    </tr>\n",
       "    <tr>\n",
       "      <th>2</th>\n",
       "      <td>wss://2u667tb3jvjynlpkzp5cngutfn4hhzgljjw6xnho...</td>\n",
       "      <td>1</td>\n",
       "    </tr>\n",
       "    <tr>\n",
       "      <th>3</th>\n",
       "      <td>wss://wnui6twj4axagguoklcfyy33lix6sybx5s45bjcn...</td>\n",
       "      <td>1</td>\n",
       "    </tr>\n",
       "    <tr>\n",
       "      <th>4</th>\n",
       "      <td>wss://lnbits.moizen.xyz/nostrrelay/moizen</td>\n",
       "      <td>1</td>\n",
       "    </tr>\n",
       "    <tr>\n",
       "      <th>...</th>\n",
       "      <td>...</td>\n",
       "      <td>...</td>\n",
       "    </tr>\n",
       "    <tr>\n",
       "      <th>890</th>\n",
       "      <td>wss://test.nfrelay.app</td>\n",
       "      <td>5384311</td>\n",
       "    </tr>\n",
       "    <tr>\n",
       "      <th>891</th>\n",
       "      <td>wss://thecitadel.nostr1.com</td>\n",
       "      <td>5858657</td>\n",
       "    </tr>\n",
       "    <tr>\n",
       "      <th>892</th>\n",
       "      <td>wss://relay.cashumints.space</td>\n",
       "      <td>6362939</td>\n",
       "    </tr>\n",
       "    <tr>\n",
       "      <th>893</th>\n",
       "      <td>wss://theforest.nostr1.com</td>\n",
       "      <td>6384358</td>\n",
       "    </tr>\n",
       "    <tr>\n",
       "      <th>894</th>\n",
       "      <td>wss://primus.nostr1.com</td>\n",
       "      <td>11297050</td>\n",
       "    </tr>\n",
       "  </tbody>\n",
       "</table>\n",
       "<p>895 rows × 2 columns</p>\n",
       "</div>"
      ],
      "text/plain": [
       "                                             relay_url  event_count\n",
       "0    wss://y5ot37ckvther25mz5mlbgomkr43azjfo7bzhf6x...            1\n",
       "1    wss://3amnnymetkm6wgd23tjkb3pyees4kkapltmuya5t...            1\n",
       "2    wss://2u667tb3jvjynlpkzp5cngutfn4hhzgljjw6xnho...            1\n",
       "3    wss://wnui6twj4axagguoklcfyy33lix6sybx5s45bjcn...            1\n",
       "4            wss://lnbits.moizen.xyz/nostrrelay/moizen            1\n",
       "..                                                 ...          ...\n",
       "890                             wss://test.nfrelay.app      5384311\n",
       "891                        wss://thecitadel.nostr1.com      5858657\n",
       "892                       wss://relay.cashumints.space      6362939\n",
       "893                         wss://theforest.nostr1.com      6384358\n",
       "894                            wss://primus.nostr1.com     11297050\n",
       "\n",
       "[895 rows x 2 columns]"
      ]
     },
     "execution_count": 33,
     "metadata": {},
     "output_type": "execute_result"
    }
   ],
   "source": [
    "query = \"\"\"\n",
    "SELECT \n",
    "    relay_url,\n",
    "    COUNT(*) AS event_count\n",
    "FROM \n",
    "    events_relays\n",
    "GROUP BY \n",
    "    relay_url\n",
    "ORDER BY \n",
    "    event_count ASC;\n",
    "\"\"\"\n",
    "df = pd.read_sql(query, bigbrotr.conn)\n",
    "df"
   ]
  },
  {
   "cell_type": "code",
   "execution_count": 34,
   "id": "9af4033c",
   "metadata": {},
   "outputs": [
    {
     "data": {
      "image/png": "[encoded data removed]",
      "text/plain": [
       "<Figure size 1000x600 with 1 Axes>"
      ]
     },
     "metadata": {},
     "output_type": "display_data"
    }
   ],
   "source": [
    "# plot cdf fraction of relays vs number of events\n",
    "import matplotlib.pyplot as plt\n",
    "import seaborn as sns\n",
    "sns.set_theme(style=\"whitegrid\")\n",
    "plt.figure(figsize=(10, 6))\n",
    "plt.plot(df['event_count'].value_counts().sort_index().cumsum() / df['event_count'].count(), marker='o')\n",
    "plt.title('CDF of Relays vs Number of Events')\n",
    "plt.xlabel('Number of Events')\n",
    "plt.ylabel('Cumulative Fraction of Relays')\n",
    "plt.xticks(rotation=45)\n",
    "# plt.xscale('log')\n",
    "plt.grid(True)\n",
    "plt.tight_layout()\n",
    "plt.show()\n"
   ]
  },
  {
   "cell_type": "code",
   "execution_count": 35,
   "id": "d5854f3a",
   "metadata": {},
   "outputs": [
    {
     "name": "stdout",
     "output_type": "stream",
     "text": [
      "Number of events in the database: 33131133\n"
     ]
    }
   ],
   "source": [
    "query = \"SELECT COUNT(*) FROM events WHERE kind = 1\"\n",
    "bigbrotr.execute(query)\n",
    "rows = bigbrotr.fetchall()\n",
    "print(f\"Number of events in the database: {rows[0][0]}\")"
   ]
  },
  {
   "cell_type": "code",
   "execution_count": 36,
   "id": "e2ad4aab",
   "metadata": {},
   "outputs": [
    {
     "data": {
      "text/html": [
       "<div>\n",
       "<style scoped>\n",
       "    .dataframe tbody tr th:only-of-type {\n",
       "        vertical-align: middle;\n",
       "    }\n",
       "\n",
       "    .dataframe tbody tr th {\n",
       "        vertical-align: top;\n",
       "    }\n",
       "\n",
       "    .dataframe thead th {\n",
       "        text-align: right;\n",
       "    }\n",
       "</style>\n",
       "<table border=\"1\" class=\"dataframe\">\n",
       "  <thead>\n",
       "    <tr style=\"text-align: right;\">\n",
       "      <th></th>\n",
       "      <th>relay_url</th>\n",
       "      <th>count</th>\n",
       "    </tr>\n",
       "  </thead>\n",
       "  <tbody>\n",
       "    <tr>\n",
       "      <th>0</th>\n",
       "      <td>wss://relay.mostr.pub</td>\n",
       "      <td>33</td>\n",
       "    </tr>\n",
       "    <tr>\n",
       "      <th>1</th>\n",
       "      <td>wss://nostr.land</td>\n",
       "      <td>33</td>\n",
       "    </tr>\n",
       "    <tr>\n",
       "      <th>2</th>\n",
       "      <td>wss://henhouse.social/relay</td>\n",
       "      <td>33</td>\n",
       "    </tr>\n",
       "    <tr>\n",
       "      <th>3</th>\n",
       "      <td>wss://nostr.thurk.org</td>\n",
       "      <td>33</td>\n",
       "    </tr>\n",
       "    <tr>\n",
       "      <th>4</th>\n",
       "      <td>wss://relay.lumina.rocks</td>\n",
       "      <td>33</td>\n",
       "    </tr>\n",
       "    <tr>\n",
       "      <th>...</th>\n",
       "      <td>...</td>\n",
       "      <td>...</td>\n",
       "    </tr>\n",
       "    <tr>\n",
       "      <th>1254</th>\n",
       "      <td>wss://2bmygi42zugarkql3bx75k3l24erey3rhok4jlil...</td>\n",
       "      <td>1</td>\n",
       "    </tr>\n",
       "    <tr>\n",
       "      <th>1255</th>\n",
       "      <td>wss://relay2.nostr.vet</td>\n",
       "      <td>1</td>\n",
       "    </tr>\n",
       "    <tr>\n",
       "      <th>1256</th>\n",
       "      <td>wss://misskey.social</td>\n",
       "      <td>1</td>\n",
       "    </tr>\n",
       "    <tr>\n",
       "      <th>1257</th>\n",
       "      <td>wss://nostr.cercatrova.me</td>\n",
       "      <td>1</td>\n",
       "    </tr>\n",
       "    <tr>\n",
       "      <th>1258</th>\n",
       "      <td>wss://mj6g7iukbohwtjrtpuqd7m3g6ccl53m27bs7kbvr...</td>\n",
       "      <td>1</td>\n",
       "    </tr>\n",
       "  </tbody>\n",
       "</table>\n",
       "<p>1259 rows × 2 columns</p>\n",
       "</div>"
      ],
      "text/plain": [
       "                                              relay_url  count\n",
       "0                                 wss://relay.mostr.pub     33\n",
       "1                                      wss://nostr.land     33\n",
       "2                           wss://henhouse.social/relay     33\n",
       "3                                 wss://nostr.thurk.org     33\n",
       "4                              wss://relay.lumina.rocks     33\n",
       "...                                                 ...    ...\n",
       "1254  wss://2bmygi42zugarkql3bx75k3l24erey3rhok4jlil...      1\n",
       "1255                             wss://relay2.nostr.vet      1\n",
       "1256                               wss://misskey.social      1\n",
       "1257                          wss://nostr.cercatrova.me      1\n",
       "1258  wss://mj6g7iukbohwtjrtpuqd7m3g6ccl53m27bs7kbvr...      1\n",
       "\n",
       "[1259 rows x 2 columns]"
      ]
     },
     "execution_count": 36,
     "metadata": {},
     "output_type": "execute_result"
    }
   ],
   "source": [
    "query = \"\"\"\n",
    "SELECT relay_url, COUNT(*) AS count\n",
    "FROM relay_metadata\n",
    "GROUP BY relay_url\n",
    "ORDER BY count DESC\n",
    "\"\"\"\n",
    "\n",
    "bigbrotr.execute(query)\n",
    "rows = bigbrotr.fetchall()\n",
    "\n",
    "# Create DataFrame\n",
    "df = pd.DataFrame(rows, columns=['relay_url', 'count'])\n",
    "df"
   ]
  },
  {
   "cell_type": "code",
   "execution_count": 37,
   "id": "c50b90ee",
   "metadata": {},
   "outputs": [
    {
     "data": {
      "text/plain": [
       "array([[<Axes: title={'center': 'count'}>]], dtype=object)"
      ]
     },
     "execution_count": 37,
     "metadata": {},
     "output_type": "execute_result"
    },
    {
     "data": {
      "image/png": "[encoded data removed]",
      "text/plain": [
       "<Figure size 640x480 with 1 Axes>"
      ]
     },
     "metadata": {},
     "output_type": "display_data"
    }
   ],
   "source": [
    "df.hist(column='count', bins=50, edgecolor='black')"
   ]
  },
  {
   "cell_type": "code",
   "execution_count": null,
   "id": "925fa7fc",
   "metadata": {},
   "outputs": [],
   "source": [
    "query = '''\n",
    "SELECT\n",
    "    er.relay_url,\n",
    "    MAX(e.created_at) AS max_created_at\n",
    "FROM\n",
    "    events_relays er\n",
    "JOIN\n",
    "    events e ON e.id = er.event_id\n",
    "GROUP BY\n",
    "    er.relay_url\n",
    "ORDER BY\n",
    "    max_created_at DESC;\n",
    "'''\n",
    "bigbrotr.execute(query)\n",
    "rows = bigbrotr.fetchall()\n",
    "df = pd.DataFrame(rows, columns=['relay_url', 'max_created_at'])"
   ]
  },
  {
   "cell_type": "code",
   "execution_count": null,
   "id": "0911f6ca",
   "metadata": {},
   "outputs": [],
   "source": [
    "df"
   ]
  },
  {
   "cell_type": "code",
   "execution_count": null,
   "id": "226130a8",
   "metadata": {},
   "outputs": [],
   "source": [
    "df['year_month'] = pd.to_datetime(df['max_created_at'], unit='s').dt.to_period('M')"
   ]
  },
  {
   "cell_type": "code",
   "execution_count": null,
   "id": "268ce11e",
   "metadata": {},
   "outputs": [],
   "source": [
    "df.value_counts('year_month').sort_index().plot(kind='bar', figsize=(12, 6)) "
   ]
  },
  {
   "cell_type": "code",
   "execution_count": null,
   "id": "2c731ff7",
   "metadata": {},
   "outputs": [],
   "source": [
    "query = \"\"\"\n",
    "SELECT COUNT(*)\n",
    "FROM events e\n",
    "WHERE NOT EXISTS (\n",
    "    SELECT 1\n",
    "    FROM events_relays er\n",
    "    WHERE er.event_id = e.id\n",
    ");\n",
    "\"\"\"\n",
    "bigbrotr.execute(query)\n",
    "rows = bigbrotr.fetchall()\n",
    "print(f\"Number of events without relays: {rows[0][0]}\")"
   ]
  },
  {
   "cell_type": "code",
   "execution_count": 9,
   "id": "7b226916",
   "metadata": {},
   "outputs": [
    {
     "data": {
      "text/plain": [
       "[(0,)]"
      ]
     },
     "execution_count": 9,
     "metadata": {},
     "output_type": "execute_result"
    }
   ],
   "source": [
    "query = '''\n",
    "SELECT COUNT(*)\n",
    "FROM events_relays\n",
    "WHERE relay_url = %s\n",
    "'''\n",
    "args = ('wss://relay.nostr.band',)\n",
    "bigbrotr.execute(query, args)\n",
    "rows = bigbrotr.fetchall()\n",
    "rows"
   ]
  },
  {
   "cell_type": "code",
   "execution_count": null,
   "id": "079e5039",
   "metadata": {},
   "outputs": [],
   "source": [
    "# bigbrotr.conn.autocommit = True\n",
    "# bigbrotr.execute('VACUUM FULL events;')\n",
    "# bigbrotr.execute('VACUUM FULL events_relays;')\n",
    "# bigbrotr.execute('VACUUM FULL relay_metadata;')\n",
    "# bigbrotr.execute('VACUUM FULL relays;')"
   ]
  },
  {
   "cell_type": "code",
   "execution_count": 39,
   "id": "0737e63c",
   "metadata": {},
   "outputs": [],
   "source": [
    "bigbrotr.close()"
   ]
  }
 ],
 "metadata": {
  "kernelspec": {
   "display_name": "venv",
   "language": "python",
   "name": "python3"
  },
  "language_info": {
   "codemirror_mode": {
    "name": "ipython",
    "version": 3
   },
   "file_extension": ".py",
   "mimetype": "text/x-python",
   "name": "python",
   "nbconvert_exporter": "python",
   "pygments_lexer": "ipython3",
   "version": "3.12.3"
  }
 },
 "nbformat": 4,
 "nbformat_minor": 5
}
