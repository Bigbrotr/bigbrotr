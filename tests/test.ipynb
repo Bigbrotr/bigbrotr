{
 "cells": [
  {
   "cell_type": "code",
   "execution_count": 1,
   "id": "900ad03a",
   "metadata": {},
   "outputs": [],
   "source": [
    "import sys\n",
    "sys.path.append(\"../src\")\n",
    "from bigbrotr import Bigbrotr\n",
    "from event import Event\n",
    "from relay import Relay\n",
    "from relay_metadata import RelayMetadata\n",
    "import utils\n",
    "import pandas as pd"
   ]
  },
  {
   "cell_type": "markdown",
   "id": "139d4e34",
   "metadata": {},
   "source": [
    "# Utils"
   ]
  },
  {
   "cell_type": "code",
   "execution_count": null,
   "id": "fda519c0",
   "metadata": {},
   "outputs": [],
   "source": [
    "private_key, public_key = utils.generate_nostr_keypair()\n",
    "e = utils.generate_event(private_key, public_key, 1, [], \"test\")\n",
    "assert utils.verify_sig(e['id'], e['pubkey'], e['sig']), \"Signature verification failed\"\n",
    "assert utils.calc_event_id(e['pubkey'], e['created_at'], e['kind'], e['tags'], e['content']) == e['id'], \"Event ID calculation failed\"\n",
    "e = Event(e['id'], e['pubkey'], e['created_at'], e['kind'], e['tags'], e['content'], e['sig'])\n",
    "e"
   ]
  },
  {
   "cell_type": "markdown",
   "id": "7bbb9854",
   "metadata": {},
   "source": [
    "# Database"
   ]
  },
  {
   "cell_type": "code",
   "execution_count": 2,
   "id": "a5d62456",
   "metadata": {},
   "outputs": [],
   "source": [
    "bigbrotr = Bigbrotr(\n",
    "    host=\"localhost\",\n",
    "    port=5431,\n",
    "    user=\"admin\",\n",
    "    password=\"admin\",\n",
    "    dbname=\"bigbrotr\"\n",
    ")"
   ]
  },
  {
   "cell_type": "code",
   "execution_count": 3,
   "id": "fabb4c40",
   "metadata": {},
   "outputs": [],
   "source": [
    "bigbrotr.connect()"
   ]
  },
  {
   "cell_type": "code",
   "execution_count": null,
   "id": "500a8793",
   "metadata": {},
   "outputs": [],
   "source": [
    "query = \"SELECT * FROM events\"\n",
    "bigbrotr.execute(query)\n",
    "rows = bigbrotr.fetchall()\n",
    "df = {\n",
    "    \"id\": [],\n",
    "    \"pubkey\": [],\n",
    "    \"created_at\": [],\n",
    "    \"kind\": [],\n",
    "    \"tags\": [],\n",
    "    \"content\": [],\n",
    "    \"sig\": []\n",
    "}\n",
    "for row in rows:\n",
    "    df[\"id\"].append(row[0])\n",
    "    df[\"pubkey\"].append(row[1])\n",
    "    df[\"created_at\"].append(row[2])\n",
    "    df[\"kind\"].append(row[3])\n",
    "    df[\"tags\"].append(row[4])\n",
    "    df[\"content\"].append(row[5])\n",
    "    df[\"sig\"].append(row[6])\n",
    "df = pd.DataFrame(df)"
   ]
  },
  {
   "cell_type": "code",
   "execution_count": null,
   "id": "bed0d590",
   "metadata": {},
   "outputs": [],
   "source": [
    "query = \"SELECT * FROM relay_metadata\"\n",
    "bigbrotr.execute(query)\n",
    "rows = bigbrotr.fetchall()\n",
    "for row in rows:\n",
    "    print(row)"
   ]
  },
  {
   "cell_type": "code",
   "execution_count": 4,
   "id": "d5854f3a",
   "metadata": {},
   "outputs": [
    {
     "name": "stdout",
     "output_type": "stream",
     "text": [
      "Number of events in the database: 471502\n"
     ]
    }
   ],
   "source": [
    "query = \"SELECT COUNT(*) FROM events\"\n",
    "bigbrotr.execute(query)\n",
    "rows = bigbrotr.fetchall()\n",
    "print(f\"Number of events in the database: {rows[0][0]}\")"
   ]
  },
  {
   "cell_type": "code",
   "execution_count": 5,
   "id": "0737e63c",
   "metadata": {},
   "outputs": [],
   "source": [
    "bigbrotr.close()"
   ]
  },
  {
   "cell_type": "markdown",
   "id": "7ce3172c",
   "metadata": {},
   "source": [
    "# relay_urls"
   ]
  },
  {
   "cell_type": "code",
   "execution_count": null,
   "id": "742d51bf",
   "metadata": {},
   "outputs": [],
   "source": [
    "import pandas as pd\n",
    "relays_url = pd.read_csv(\"../seed/relays_url.csv\")\n",
    "relays_url = relays_url.groupby('relay_url').agg({'count': 'sum'}).reset_index()\n",
    "relays_url = relays_url.sort_values(by='count', ascending=False).reset_index(drop=True)\n",
    "relays_url.to_csv(\"../seed/relays_url.csv\", index=False)"
   ]
  }
 ],
 "metadata": {
  "kernelspec": {
   "display_name": "venv",
   "language": "python",
   "name": "python3"
  },
  "language_info": {
   "codemirror_mode": {
    "name": "ipython",
    "version": 3
   },
   "file_extension": ".py",
   "mimetype": "text/x-python",
   "name": "python",
   "nbconvert_exporter": "python",
   "pygments_lexer": "ipython3",
   "version": "3.12.3"
  }
 },
 "nbformat": 4,
 "nbformat_minor": 5
}
