{
 "cells": [
  {
   "cell_type": "code",
   "execution_count": 2,
   "id": "900ad03a",
   "metadata": {},
   "outputs": [],
   "source": [
    "import sys\n",
    "sys.path.append(\"../src\")\n",
    "from bigbrotr import Bigbrotr\n",
    "from event import Event\n",
    "from relay import Relay\n",
    "from relay_metadata import RelayMetadata\n",
    "import utils\n",
    "import time"
   ]
  },
  {
   "cell_type": "markdown",
   "id": "139d4e34",
   "metadata": {},
   "source": [
    "# Utils"
   ]
  },
  {
   "cell_type": "code",
   "execution_count": null,
   "id": "fda519c0",
   "metadata": {},
   "outputs": [],
   "source": [
    "private_key, public_key = utils.generate_nostr_keypair()\n",
    "e = utils.generate_event(private_key, public_key, 1, [], \"test\")\n",
    "assert utils.verify_sig(e['id'], e['pubkey'], e['sig']), \"Signature verification failed\"\n",
    "assert utils.calc_event_id(e['pubkey'], e['created_at'], e['kind'], e['tags'], e['content']) == e['id'], \"Event ID calculation failed\"\n",
    "e = Event(e['id'], e['pubkey'], e['created_at'], e['kind'], e['tags'], e['content'], e['sig'])\n",
    "e"
   ]
  },
  {
   "cell_type": "markdown",
   "id": "7bbb9854",
   "metadata": {},
   "source": [
    "# Database"
   ]
  },
  {
   "cell_type": "code",
   "execution_count": 3,
   "id": "a5d62456",
   "metadata": {},
   "outputs": [],
   "source": [
    "bigbrotr = Bigbrotr(\n",
    "    host=\"localhost\",\n",
    "    port=5432,\n",
    "    user=\"admin\",\n",
    "    password=\"admin\",\n",
    "    dbname=\"bigbrotr\"\n",
    ")"
   ]
  },
  {
   "cell_type": "code",
   "execution_count": 5,
   "id": "fabb4c40",
   "metadata": {},
   "outputs": [],
   "source": [
    "bigbrotr.connect()"
   ]
  },
  {
   "cell_type": "code",
   "execution_count": 6,
   "id": "500a8793",
   "metadata": {},
   "outputs": [
    {
     "name": "stdout",
     "output_type": "stream",
     "text": [
      "('wss://relay.mostr.pub', 1747575335, True, True, True, True, False, 1323, 168, 189, 'Mostr relay', 'Relay to bridge Nostr with ActivityPub.', None, None, None, None, None, 'git+https://github.com/hoytech/strfry.git', '1.0.4', None, None, {'max_limit': 500, 'max_subscriptions': 20, 'max_message_length': 131072}, {'negentropy': 1})\n",
      "('wss://relay.damus.io', 1747575335, True, True, True, True, True, 272, 185, 212, 'damus.io', 'Damus strfry relay', None, 'https://damus.io/img/logo.png', '32e1827635450ebb3c5a7d12c1f8e7b2b514439ac10a67eef3d9fd9c5c68e245', 'jb55@jb55.com', None, 'git+https://github.com/hoytech/strfry.git', '1.0.4-1-g783f9ce8cc77', None, None, {'max_limit': 500, 'max_subscriptions': 300, 'max_message_length': 1000000}, {'negentropy': 1})\n",
      "('wss://nos.lol', 1747575335, True, True, True, True, True, 92, 29, 53, 'nos.lol', 'Generally accepts notes, except spammy ones.', None, None, 'c5fadeb5d90d68baffc631455a07ca340ccf1e31110955e16d45eb5f87147cd9', 'https://wikifreedia.xyz/nos.lol/', None, 'git+https://github.com/hoytech/strfry.git', '1.0.4', None, None, {'max_limit': 500, 'max_subscriptions': 20, 'max_message_length': 131072}, {'negentropy': 1})\n",
      "('wss://relay.nostr.band', 1747575335, True, True, True, False, True, 206, 81, 83, 'Nostr.Band Relay', 'This is a fast relay with full archive of textual posts', None, None, '818a39b5f164235f86254b12ca586efccc1f95e98b45cb1c91c71dc5d9486dda', 'mailto:admin@nostr.band', None, 'https://relay.nostr.band', '0.4', None, None, None, {})\n",
      "('wss://nostr.zbd.gg', 1747575335, True, True, True, True, False, 412, 102, 107, 'ZBD Social', 'Notes and other stuff from ZEBEDEE users.', None, None, 'cf473ebe9736ba689c718de3d5ef38909bca57db3c38e3f9de7f5dadfc88ed6f', 'cf473ebe9736ba689c718de3d5ef38909bca57db3c38e3f9de7f5dadfc88ed6f', None, 'git+https://github.com/hoytech/strfry.git', '0.9.2-1-g75a34e4', None, None, None, {})\n",
      "('wss://nostr.wine', 1747575335, True, True, True, False, False, 295, 71, 995, 'nostr.wine', 'A paid nostr relay for wine enthusiasts and everyone else.', None, 'https://image.nostr.build/30acdce4a81926f386622a07343228ae99fa68d012d54c538c0b2129dffe400c.png', '4918eb332a41b71ba9a74b1dc64276cfff592e55107b93baae38af3520e55975', 'wino@nostr.wine', None, 'https://nostr.wine', '0.3.3', 'https://nostr.wine/terms', 'https://nostr.wine/terms', {'max_limit': 1000, 'auth_required': False, 'max_event_tags': 4000, 'max_subid_length': 71, 'payment_required': True, 'max_subscriptions': 50, 'restricted_writes': True, 'max_message_length': 524288, 'min_pow_difficulty': 0, 'created_at_lower_limit': 94608000, 'created_at_upper_limit': 300}, {'fees': {'admission': [{'unit': 'msats', 'amount': 18888000}]}, 'payments_url': 'https://nostr.wine/invoices', 'language_tags': ['*'], 'relay_countries': ['*']})\n",
      "('wss://nostr-pub.wellorder.net', 1747575335, True, True, True, True, True, 523, 1288, 215, 'wellorder-relay', 'Relay for the (NIP-05 verified) Nostr community.', None, None, '35d26e4690cbe1a898af61cc3515661eb5fa763b57bd0b42e45099c8b32fd50f', None, None, 'https://git.sr.ht/~gheartsfield/nostr-rs-relay', '0.9.0', None, None, {'payment_required': False, 'restricted_writes': False}, {'id': 'wss://relay.wellorder.net/'})\n",
      "('wss://relay.snort.social', 1747575335, True, True, True, True, False, 151, 45, 48, 'Snort', 'Snort relay (strfry)', None, None, '84de35e2584d2b144aae823c9ed0b0f3deda09648530b93d1a2a146d1dea9864', 'admin@snort.social', None, 'git+https://github.com/hoytech/strfry.git', '1.0.4', None, None, {'max_limit': 500, 'max_subscriptions': 20, 'max_message_length': 131072}, {'negentropy': 1})\n",
      "('wss://relay.primal.net', 1747575335, True, True, True, True, True, 144, 44, 46, 'primal.net strfry instance', 'primal.net strfry instance', None, None, 'dd9b989dfe5e0840a92538f3e9f84f674e5f17ab05932efbacb4d8e6c905f302', 'primal.net', None, 'git+https://github.com/hoytech/strfry.git', '1.0.3-1-g60d35a6', None, None, {'max_limit': 500, 'max_subscriptions': 20, 'max_message_length': 1000000}, {'negentropy': 1})\n",
      "('wss://eden.nostr.land', 1747575335, True, True, True, False, False, 536, 0, 0, 'nostr.land', 'nostr.land family of relays (us-or-01)', None, None, '52b4a076bcbbbdc3a1aefa3735816cf74993b1b8db202b01c883c58be7fad8bd', None, None, 'custom', '1.0.1', None, None, {'auth_required': False, 'max_event_tags': 2000, 'payment_required': True, 'max_subscriptions': 20, 'max_message_length': 65535}, {'fees': {'subscription': [{'unit': 'msats', 'amount': 4000000, 'period': 2592000}]}, 'payments_url': 'https://nostr.land', 'canonical_url': 'wss://eden.nostr.land'})\n",
      "('wss://relay.momostr.pink', 1747575335, True, False, True, False, False, 595, 0, 0, None, None, None, None, None, None, None, None, None, None, None, None, None)\n",
      "('wss://purplepag.es', 1747575335, True, True, True, True, False, 89, 27, 27, 'purplepag.es', \"Nostr's Purple Pages\", None, None, 'fa984bd7dbb282f07e16e7ae87b26a2a7b9b90b7246a44771f0cf5ae58018f52', '_@f7z.io', None, 'git+https://github.com/hoytech/strfry.git', '1.0.4', None, None, {'max_limit': 5000, 'max_subscriptions': 50, 'max_message_length': 131072}, {'negentropy': 1})\n",
      "('wss://nostr.bitcoiner.social', 1747575335, True, True, True, True, True, 386, 147, 154, 'bitcoiner.social', 'A fast, reliable, and up-to-date nostr relay with monitored server availability and nightly off-site backups.', None, None, 'ece3317bf8163930b5dafae50596b740b0608433b78568886a9a712a91a5d59b', 'nostr@bitcoiner.social', None, 'git+https://github.com/hoytech/strfry.git', '1.0.4', None, None, {'max_limit': 500, 'max_subscriptions': 20, 'max_message_length': 131072}, {'negentropy': 1})\n",
      "('wss://nostr.oxtr.dev', 1747575335, True, True, True, True, True, 88, 27, 41, '0xtr relay', 'What if changing the world was just about being here, by showing up no matter how many times we get told we don’t belong..', None, 'https://blossom.oxtr.dev/7c6ffdd8bc75f19fa9bd12f8b50f7e28bca5f835dd44937a1cc82f59f54b3e0e.png', 'b2d670de53b27691c0c3400225b65c35a26d06093bcc41f48ffc71e0907f9d4a', 'mailto:oxtrr@protonmail.com', None, 'git+https://github.com/hoytech/strfry.git', '1.0.4', None, None, {'max_limit': 500, 'max_subscriptions': 40, 'max_message_length': 131072}, {'negentropy': 1})\n",
      "('wss://offchain.pub', 1747575335, True, True, True, True, True, 536, 169, 201, 'offchain.pub', 'public nostr relay running strfry', None, None, '6b1b35c6dee48851bac53a4494ca8f819503be00212dbceb899dc03acd7641db', 'admin@offchain.pub', None, 'git+https://github.com/hoytech/strfry.git', '1.0.2', None, None, {'max_limit': 500, 'max_subscriptions': 20, 'max_message_length': 131072}, {'negentropy': 1})\n",
      "('wss://nostr.mom', 1747575335, True, True, True, True, True, 112, 78, 41, 'nostr.mom', 'Rate limits. Reads reports and generates web of trust for decisions.', None, None, 'c5fadeb5d90d68baffc631455a07ca340ccf1e31110955e16d45eb5f87147cd9', 'https://wikifreedia.xyz/nostr.mom/', None, 'git+https://github.com/hoytech/strfry.git', '1.0.4', None, None, {'max_limit': 500, 'max_subscriptions': 20, 'max_message_length': 131072}, {'negentropy': 1})\n",
      "('wss://filter.nostr.wine', 1747575335, True, False, True, False, False, 602, 0, 0, None, None, None, None, None, None, None, None, None, None, None, None, None)\n",
      "('wss://feeds.nostr.band/meme', 1747575335, True, True, True, False, True, 221, 79, 80, 'Meme Hub', 'Meme aggregation relay, delivering your daily dose of laughter and wisdom.', None, None, '7f5c2b4e48a0e9feca63a46b13cdb82489f4020398d60a2070a968caa818d75d', None, None, 'https://relay.nostr.band', '0.4', None, None, None, {})\n",
      "('wss://atlas.nostr.land', 1747575335, True, True, True, False, False, 520, 1, 0, 'nostr.land', 'nostr.land family of relays (us-or-01)', None, None, '52b4a076bcbbbdc3a1aefa3735816cf74993b1b8db202b01c883c58be7fad8bd', None, None, 'custom', '1.0.1', None, None, {'auth_required': False, 'max_event_tags': 2000, 'payment_required': True, 'max_subscriptions': 20, 'max_message_length': 65535}, {'fees': {'subscription': [{'unit': 'msats', 'amount': 4000000, 'period': 2592000}]}, 'payments_url': 'https://nostr.land', 'canonical_url': 'wss://eden.nostr.land'})\n",
      "('wss://puravida.nostr.land', 1747575335, True, True, True, False, False, 530, 0, 0, 'nostr.land', 'nostr.land family of relays (us-or-01)', None, None, '52b4a076bcbbbdc3a1aefa3735816cf74993b1b8db202b01c883c58be7fad8bd', None, None, 'custom', '1.0.1', None, None, {'auth_required': False, 'max_event_tags': 2000, 'payment_required': True, 'max_subscriptions': 20, 'max_message_length': 65535}, {'fees': {'subscription': [{'unit': 'msats', 'amount': 4000000, 'period': 2592000}]}, 'payments_url': 'https://nostr.land', 'canonical_url': 'wss://eden.nostr.land'})\n",
      "('wss://welcome.nostr.wine', 1747575335, True, True, True, True, False, 606, 204, 214, 'welcome.nostr.wine', 'A read only relay that shows posts exclusively from new nostr users! Powered by nostr.wine.', None, None, '4918eb332a41b71ba9a74b1dc64276cfff592e55107b93baae38af3520e55975', 'wino@nostr.wine', None, 'git+https://github.com/hoytech/strfry.git', '0.9.6-7-g7196547', None, None, None, {})\n",
      "('wss://articles.layer3.news', 1747575335, True, True, True, True, True, 511, 236, 227, 'Layer3.news Relay', 'Layer3.news generic relay', None, None, 'admin@layer3.news                                               ', 'https://layer3.news/', None, 'git+https://github.com/hoytech/strfry.git', '1.0.4', None, None, {'max_limit': 500, 'max_subscriptions': 1000, 'max_message_length': 131072}, {'negentropy': 1})\n",
      "('wss://nostr.einundzwanzig.space', 1747575335, True, True, True, False, True, 127, None, 88, 'nostr-einundzwanzig-space', 'In code we trust.', None, None, '031ea306188fee631a86f1a0e49cee8f3d62592b2e7be5f8eb1788e327db340a', 'mail@einundzwanzig.space', None, 'https://git.sr.ht/~gheartsfield/nostr-rs-relay', '0.9.0', None, None, {'payment_required': False, 'restricted_writes': False}, {'id': 'wss://nostr.einundzwanzig.space/'})\n",
      "('wss://relay.nostr.com.au', 1747575335, True, True, True, True, False, 820, 268, 328, 'relay.nostr.com.au', 'A nostr relay written in Typescript.', None, None, 'e07773a92a610a28da20748fdd98bfb5af694b0cad085224801265594a98108a', 'admin@nostr.com.au', None, 'git+https://github.com/Cameri/nostream.git', '1.25.2', None, None, {'max_limit': 5000, 'min_prefix': 4, 'max_filters': 2500, 'auth_required': False, 'max_event_tags': 2500, 'max_subid_length': 256, 'payment_required': True, 'max_subscriptions': 10, 'max_content_length': 65536, 'max_message_length': 262144, 'min_pow_difficulty': 0}, {'fees': {'admission': [{'unit': 'msats', 'amount': 6969000}]}, 'payments_url': 'https://relay.nostr.com.au/invoices', 'supported_nip_extensions': ['11a']})\n",
      "('wss://no.str.cr', 1747575335, True, True, True, True, True, 526, 194, 178, 'no.str.cr', 'This is a nostr relay for Costa Rica', None, None, 'unset                                                           ', 'unset', None, 'git+https://github.com/hoytech/strfry.git', '1.0.4', None, None, {'max_limit': 500, 'max_subscriptions': 20, 'max_message_length': 131072}, {'negentropy': 1})\n",
      "('wss://bitcoiner.social', 1747575335, True, True, True, True, True, 377, 139, 140, 'bitcoiner.social', 'A fast, reliable, and up-to-date nostr relay with monitored server availability and nightly off-site backups.', None, None, 'ece3317bf8163930b5dafae50596b740b0608433b78568886a9a712a91a5d59b', 'nostr@bitcoiner.social', None, 'git+https://github.com/hoytech/strfry.git', '1.0.4', None, None, {'max_limit': 500, 'max_subscriptions': 20, 'max_message_length': 131072}, {'negentropy': 1})\n",
      "('wss://relay.mostr.pub', 1747575363, True, True, True, True, False, 324, 166, 175, 'Mostr relay', 'Relay to bridge Nostr with ActivityPub.', None, None, None, None, None, 'git+https://github.com/hoytech/strfry.git', '1.0.4', None, None, {'max_limit': 500, 'max_subscriptions': 20, 'max_message_length': 131072}, {'negentropy': 1})\n",
      "('wss://relay.damus.io', 1747575363, True, True, True, True, True, 238, 185, 189, 'damus.io', 'Damus strfry relay', None, 'https://damus.io/img/logo.png', '32e1827635450ebb3c5a7d12c1f8e7b2b514439ac10a67eef3d9fd9c5c68e245', 'jb55@jb55.com', None, 'git+https://github.com/hoytech/strfry.git', '1.0.4-1-g783f9ce8cc77', None, None, {'max_limit': 500, 'max_subscriptions': 300, 'max_message_length': 1000000}, {'negentropy': 1})\n",
      "('wss://nos.lol', 1747575363, True, True, True, True, True, 96, 38, 45, 'nos.lol', 'Generally accepts notes, except spammy ones.', None, None, 'c5fadeb5d90d68baffc631455a07ca340ccf1e31110955e16d45eb5f87147cd9', 'https://wikifreedia.xyz/nos.lol/', None, 'git+https://github.com/hoytech/strfry.git', '1.0.4', None, None, {'max_limit': 500, 'max_subscriptions': 20, 'max_message_length': 131072}, {'negentropy': 1})\n",
      "('wss://relay.nostr.band', 1747575363, True, True, True, False, True, 218, 78, 82, 'Nostr.Band Relay', 'This is a fast relay with full archive of textual posts', None, None, '818a39b5f164235f86254b12ca586efccc1f95e98b45cb1c91c71dc5d9486dda', 'mailto:admin@nostr.band', None, 'https://relay.nostr.band', '0.4', None, None, None, {})\n",
      "('wss://nostr.zbd.gg', 1747575363, True, True, True, True, False, 413, 102, 106, 'ZBD Social', 'Notes and other stuff from ZEBEDEE users.', None, None, 'cf473ebe9736ba689c718de3d5ef38909bca57db3c38e3f9de7f5dadfc88ed6f', 'cf473ebe9736ba689c718de3d5ef38909bca57db3c38e3f9de7f5dadfc88ed6f', None, 'git+https://github.com/hoytech/strfry.git', '0.9.2-1-g75a34e4', None, None, None, {})\n",
      "('wss://nostr.wine', 1747575363, True, True, True, False, False, 279, 76, 194, 'nostr.wine', 'A paid nostr relay for wine enthusiasts and everyone else.', None, 'https://image.nostr.build/30acdce4a81926f386622a07343228ae99fa68d012d54c538c0b2129dffe400c.png', '4918eb332a41b71ba9a74b1dc64276cfff592e55107b93baae38af3520e55975', 'wino@nostr.wine', None, 'https://nostr.wine', '0.3.3', 'https://nostr.wine/terms', 'https://nostr.wine/terms', {'max_limit': 1000, 'auth_required': False, 'max_event_tags': 4000, 'max_subid_length': 71, 'payment_required': True, 'max_subscriptions': 50, 'restricted_writes': True, 'max_message_length': 524288, 'min_pow_difficulty': 0, 'created_at_lower_limit': 94608000, 'created_at_upper_limit': 300}, {'fees': {'admission': [{'unit': 'msats', 'amount': 18888000}]}, 'payments_url': 'https://nostr.wine/invoices', 'language_tags': ['*'], 'relay_countries': ['*']})\n",
      "('wss://nostr-pub.wellorder.net', 1747575363, True, True, True, True, True, 523, 1278, 189, 'wellorder-relay', 'Relay for the (NIP-05 verified) Nostr community.', None, None, '35d26e4690cbe1a898af61cc3515661eb5fa763b57bd0b42e45099c8b32fd50f', None, None, 'https://git.sr.ht/~gheartsfield/nostr-rs-relay', '0.9.0', None, None, {'payment_required': False, 'restricted_writes': False}, {'id': 'wss://relay.wellorder.net/'})\n",
      "('wss://relay.snort.social', 1747575363, True, True, True, True, False, 148, 46, 50, 'Snort', 'Snort relay (strfry)', None, None, '84de35e2584d2b144aae823c9ed0b0f3deda09648530b93d1a2a146d1dea9864', 'admin@snort.social', None, 'git+https://github.com/hoytech/strfry.git', '1.0.4', None, None, {'max_limit': 500, 'max_subscriptions': 20, 'max_message_length': 131072}, {'negentropy': 1})\n",
      "('wss://relay.primal.net', 1747575363, True, True, True, True, True, 135, 47, 737, 'primal.net strfry instance', 'primal.net strfry instance', None, None, 'dd9b989dfe5e0840a92538f3e9f84f674e5f17ab05932efbacb4d8e6c905f302', 'primal.net', None, 'git+https://github.com/hoytech/strfry.git', '1.0.3-1-g60d35a6', None, None, {'max_limit': 500, 'max_subscriptions': 20, 'max_message_length': 1000000}, {'negentropy': 1})\n",
      "('wss://eden.nostr.land', 1747575363, True, True, True, False, False, 523, 0, 0, 'nostr.land', 'nostr.land family of relays (us-or-01)', None, None, '52b4a076bcbbbdc3a1aefa3735816cf74993b1b8db202b01c883c58be7fad8bd', None, None, 'custom', '1.0.1', None, None, {'auth_required': False, 'max_event_tags': 2000, 'payment_required': True, 'max_subscriptions': 20, 'max_message_length': 65535}, {'fees': {'subscription': [{'unit': 'msats', 'amount': 4000000, 'period': 2592000}]}, 'payments_url': 'https://nostr.land', 'canonical_url': 'wss://eden.nostr.land'})\n",
      "('wss://relay.momostr.pink', 1747575363, True, False, True, False, False, 601, 0, 0, None, None, None, None, None, None, None, None, None, None, None, None, None)\n",
      "('wss://purplepag.es', 1747575363, True, True, True, True, False, 94, 27, 28, 'purplepag.es', \"Nostr's Purple Pages\", None, None, 'fa984bd7dbb282f07e16e7ae87b26a2a7b9b90b7246a44771f0cf5ae58018f52', '_@f7z.io', None, 'git+https://github.com/hoytech/strfry.git', '1.0.4', None, None, {'max_limit': 5000, 'max_subscriptions': 50, 'max_message_length': 131072}, {'negentropy': 1})\n",
      "('wss://nostr.bitcoiner.social', 1747575363, True, True, True, True, True, 378, 123, 141, 'bitcoiner.social', 'A fast, reliable, and up-to-date nostr relay with monitored server availability and nightly off-site backups.', None, None, 'ece3317bf8163930b5dafae50596b740b0608433b78568886a9a712a91a5d59b', 'nostr@bitcoiner.social', None, 'git+https://github.com/hoytech/strfry.git', '1.0.4', None, None, {'max_limit': 500, 'max_subscriptions': 20, 'max_message_length': 131072}, {'negentropy': 1})\n",
      "('wss://nostr.oxtr.dev', 1747575363, True, True, True, True, True, 89, 29, 40, '0xtr relay', 'What if changing the world was just about being here, by showing up no matter how many times we get told we don’t belong..', None, 'https://blossom.oxtr.dev/7c6ffdd8bc75f19fa9bd12f8b50f7e28bca5f835dd44937a1cc82f59f54b3e0e.png', 'b2d670de53b27691c0c3400225b65c35a26d06093bcc41f48ffc71e0907f9d4a', 'mailto:oxtrr@protonmail.com', None, 'git+https://github.com/hoytech/strfry.git', '1.0.4', None, None, {'max_limit': 500, 'max_subscriptions': 40, 'max_message_length': 131072}, {'negentropy': 1})\n",
      "('wss://offchain.pub', 1747575363, True, True, True, True, True, 510, 169, 189, 'offchain.pub', 'public nostr relay running strfry', None, None, '6b1b35c6dee48851bac53a4494ca8f819503be00212dbceb899dc03acd7641db', 'admin@offchain.pub', None, 'git+https://github.com/hoytech/strfry.git', '1.0.2', None, None, {'max_limit': 500, 'max_subscriptions': 20, 'max_message_length': 131072}, {'negentropy': 1})\n",
      "('wss://nostr.mom', 1747575363, True, True, True, True, True, 105, 28, 40, 'nostr.mom', 'Rate limits. Reads reports and generates web of trust for decisions.', None, None, 'c5fadeb5d90d68baffc631455a07ca340ccf1e31110955e16d45eb5f87147cd9', 'https://wikifreedia.xyz/nostr.mom/', None, 'git+https://github.com/hoytech/strfry.git', '1.0.4', None, None, {'max_limit': 500, 'max_subscriptions': 20, 'max_message_length': 131072}, {'negentropy': 1})\n",
      "('wss://filter.nostr.wine', 1747575363, True, False, True, False, False, 621, 0, 0, None, None, None, None, None, None, None, None, None, None, None, None, None)\n",
      "('wss://feeds.nostr.band/meme', 1747575363, True, True, True, False, True, 215, 79, 83, 'Meme Hub', 'Meme aggregation relay, delivering your daily dose of laughter and wisdom.', None, None, '7f5c2b4e48a0e9feca63a46b13cdb82489f4020398d60a2070a968caa818d75d', None, None, 'https://relay.nostr.band', '0.4', None, None, None, {})\n",
      "('wss://atlas.nostr.land', 1747575363, True, True, True, False, False, 530, 0, 0, 'nostr.land', 'nostr.land family of relays (us-or-01)', None, None, '52b4a076bcbbbdc3a1aefa3735816cf74993b1b8db202b01c883c58be7fad8bd', None, None, 'custom', '1.0.1', None, None, {'auth_required': False, 'max_event_tags': 2000, 'payment_required': True, 'max_subscriptions': 20, 'max_message_length': 65535}, {'fees': {'subscription': [{'unit': 'msats', 'amount': 4000000, 'period': 2592000}]}, 'payments_url': 'https://nostr.land', 'canonical_url': 'wss://eden.nostr.land'})\n",
      "('wss://puravida.nostr.land', 1747575363, True, True, True, False, False, 518, 0, 1, 'nostr.land', 'nostr.land family of relays (us-or-01)', None, None, '52b4a076bcbbbdc3a1aefa3735816cf74993b1b8db202b01c883c58be7fad8bd', None, None, 'custom', '1.0.1', None, None, {'auth_required': False, 'max_event_tags': 2000, 'payment_required': True, 'max_subscriptions': 20, 'max_message_length': 65535}, {'fees': {'subscription': [{'unit': 'msats', 'amount': 4000000, 'period': 2592000}]}, 'payments_url': 'https://nostr.land', 'canonical_url': 'wss://eden.nostr.land'})\n",
      "('wss://welcome.nostr.wine', 1747575363, True, True, True, True, False, 608, 201, 205, 'welcome.nostr.wine', 'A read only relay that shows posts exclusively from new nostr users! Powered by nostr.wine.', None, None, '4918eb332a41b71ba9a74b1dc64276cfff592e55107b93baae38af3520e55975', 'wino@nostr.wine', None, 'git+https://github.com/hoytech/strfry.git', '0.9.6-7-g7196547', None, None, None, {})\n",
      "('wss://articles.layer3.news', 1747575363, True, True, True, True, True, 507, 201, 215, 'Layer3.news Relay', 'Layer3.news generic relay', None, None, 'admin@layer3.news                                               ', 'https://layer3.news/', None, 'git+https://github.com/hoytech/strfry.git', '1.0.4', None, None, {'max_limit': 500, 'max_subscriptions': 1000, 'max_message_length': 131072}, {'negentropy': 1})\n",
      "('wss://nostr.einundzwanzig.space', 1747575363, True, True, True, True, True, 104, 5307, 89, 'nostr-einundzwanzig-space', 'In code we trust.', None, None, '031ea306188fee631a86f1a0e49cee8f3d62592b2e7be5f8eb1788e327db340a', 'mail@einundzwanzig.space', None, 'https://git.sr.ht/~gheartsfield/nostr-rs-relay', '0.9.0', None, None, {'payment_required': False, 'restricted_writes': False}, {'id': 'wss://nostr.einundzwanzig.space/'})\n",
      "('wss://relay.nostr.com.au', 1747575363, True, True, True, True, False, 784, 303, 306, 'relay.nostr.com.au', 'A nostr relay written in Typescript.', None, None, 'e07773a92a610a28da20748fdd98bfb5af694b0cad085224801265594a98108a', 'admin@nostr.com.au', None, 'git+https://github.com/Cameri/nostream.git', '1.25.2', None, None, {'max_limit': 5000, 'min_prefix': 4, 'max_filters': 2500, 'auth_required': False, 'max_event_tags': 2500, 'max_subid_length': 256, 'payment_required': True, 'max_subscriptions': 10, 'max_content_length': 65536, 'max_message_length': 262144, 'min_pow_difficulty': 0}, {'fees': {'admission': [{'unit': 'msats', 'amount': 6969000}]}, 'payments_url': 'https://relay.nostr.com.au/invoices', 'supported_nip_extensions': ['11a']})\n",
      "('wss://no.str.cr', 1747575363, True, True, True, True, True, 521, 183, 189, 'no.str.cr', 'This is a nostr relay for Costa Rica', None, None, 'unset                                                           ', 'unset', None, 'git+https://github.com/hoytech/strfry.git', '1.0.4', None, None, {'max_limit': 500, 'max_subscriptions': 20, 'max_message_length': 131072}, {'negentropy': 1})\n",
      "('wss://bitcoiner.social', 1747575363, True, True, True, True, True, 380, 124, 151, 'bitcoiner.social', 'A fast, reliable, and up-to-date nostr relay with monitored server availability and nightly off-site backups.', None, None, 'ece3317bf8163930b5dafae50596b740b0608433b78568886a9a712a91a5d59b', 'nostr@bitcoiner.social', None, 'git+https://github.com/hoytech/strfry.git', '1.0.4', None, None, {'max_limit': 500, 'max_subscriptions': 20, 'max_message_length': 131072}, {'negentropy': 1})\n",
      "('wss://relay.mostr.pub', 1747575388, True, True, True, True, False, 527, 182, 176, 'Mostr relay', 'Relay to bridge Nostr with ActivityPub.', None, None, None, None, None, 'git+https://github.com/hoytech/strfry.git', '1.0.4', None, None, {'max_limit': 500, 'max_subscriptions': 20, 'max_message_length': 131072}, {'negentropy': 1})\n",
      "('wss://relay.damus.io', 1747575388, True, True, True, True, True, 241, 184, 226, 'damus.io', 'Damus strfry relay', None, 'https://damus.io/img/logo.png', '32e1827635450ebb3c5a7d12c1f8e7b2b514439ac10a67eef3d9fd9c5c68e245', 'jb55@jb55.com', None, 'git+https://github.com/hoytech/strfry.git', '1.0.4-1-g783f9ce8cc77', None, None, {'max_limit': 500, 'max_subscriptions': 300, 'max_message_length': 1000000}, {'negentropy': 1})\n",
      "('wss://nos.lol', 1747575388, True, True, True, True, True, 86, 35, 54, 'nos.lol', 'Generally accepts notes, except spammy ones.', None, None, 'c5fadeb5d90d68baffc631455a07ca340ccf1e31110955e16d45eb5f87147cd9', 'https://wikifreedia.xyz/nos.lol/', None, 'git+https://github.com/hoytech/strfry.git', '1.0.4', None, None, {'max_limit': 500, 'max_subscriptions': 20, 'max_message_length': 131072}, {'negentropy': 1})\n",
      "('wss://relay.nostr.band', 1747575388, True, True, True, False, True, 192, 80, 73, 'Nostr.Band Relay', 'This is a fast relay with full archive of textual posts', None, None, '818a39b5f164235f86254b12ca586efccc1f95e98b45cb1c91c71dc5d9486dda', 'mailto:admin@nostr.band', None, 'https://relay.nostr.band', '0.4', None, None, None, {})\n",
      "('wss://nostr.zbd.gg', 1747575388, True, True, True, True, False, 416, 102, 111, 'ZBD Social', 'Notes and other stuff from ZEBEDEE users.', None, None, 'cf473ebe9736ba689c718de3d5ef38909bca57db3c38e3f9de7f5dadfc88ed6f', 'cf473ebe9736ba689c718de3d5ef38909bca57db3c38e3f9de7f5dadfc88ed6f', None, 'git+https://github.com/hoytech/strfry.git', '0.9.2-1-g75a34e4', None, None, None, {})\n",
      "('wss://nostr.wine', 1747575388, True, True, True, False, False, 276, 77, 182, 'nostr.wine', 'A paid nostr relay for wine enthusiasts and everyone else.', None, 'https://image.nostr.build/30acdce4a81926f386622a07343228ae99fa68d012d54c538c0b2129dffe400c.png', '4918eb332a41b71ba9a74b1dc64276cfff592e55107b93baae38af3520e55975', 'wino@nostr.wine', None, 'https://nostr.wine', '0.3.3', 'https://nostr.wine/terms', 'https://nostr.wine/terms', {'max_limit': 1000, 'auth_required': False, 'max_event_tags': 4000, 'max_subid_length': 71, 'payment_required': True, 'max_subscriptions': 50, 'restricted_writes': True, 'max_message_length': 524288, 'min_pow_difficulty': 0, 'created_at_lower_limit': 94608000, 'created_at_upper_limit': 300}, {'fees': {'admission': [{'unit': 'msats', 'amount': 18888000}]}, 'payments_url': 'https://nostr.wine/invoices', 'language_tags': ['*'], 'relay_countries': ['*']})\n",
      "('wss://nostr-pub.wellorder.net', 1747575388, True, True, True, True, True, 530, 1232, 179, 'wellorder-relay', 'Relay for the (NIP-05 verified) Nostr community.', None, None, '35d26e4690cbe1a898af61cc3515661eb5fa763b57bd0b42e45099c8b32fd50f', None, None, 'https://git.sr.ht/~gheartsfield/nostr-rs-relay', '0.9.0', None, None, {'payment_required': False, 'restricted_writes': False}, {'id': 'wss://relay.wellorder.net/'})\n",
      "('wss://relay.snort.social', 1747575388, True, False, True, True, False, 97, 47, 1640, None, None, None, None, None, None, None, None, None, None, None, None, None)\n",
      "('wss://relay.primal.net', 1747575388, True, True, True, True, True, 136, 48, 43, 'primal.net strfry instance', 'primal.net strfry instance', None, None, 'dd9b989dfe5e0840a92538f3e9f84f674e5f17ab05932efbacb4d8e6c905f302', 'primal.net', None, 'git+https://github.com/hoytech/strfry.git', '1.0.3-1-g60d35a6', None, None, {'max_limit': 500, 'max_subscriptions': 20, 'max_message_length': 1000000}, {'negentropy': 1})\n",
      "('wss://eden.nostr.land', 1747575388, True, True, True, False, False, 515, 0, 0, 'nostr.land', 'nostr.land family of relays (us-or-01)', None, None, '52b4a076bcbbbdc3a1aefa3735816cf74993b1b8db202b01c883c58be7fad8bd', None, None, 'custom', '1.0.1', None, None, {'auth_required': False, 'max_event_tags': 2000, 'payment_required': True, 'max_subscriptions': 20, 'max_message_length': 65535}, {'fees': {'subscription': [{'unit': 'msats', 'amount': 4000000, 'period': 2592000}]}, 'payments_url': 'https://nostr.land', 'canonical_url': 'wss://eden.nostr.land'})\n",
      "('wss://relay.momostr.pink', 1747575388, True, False, True, False, False, 577, 0, 0, None, None, None, None, None, None, None, None, None, None, None, None, None)\n",
      "('wss://purplepag.es', 1747575388, True, True, True, True, False, 85, 28, 27, 'purplepag.es', \"Nostr's Purple Pages\", None, None, 'fa984bd7dbb282f07e16e7ae87b26a2a7b9b90b7246a44771f0cf5ae58018f52', '_@f7z.io', None, 'git+https://github.com/hoytech/strfry.git', '1.0.4', None, None, {'max_limit': 5000, 'max_subscriptions': 50, 'max_message_length': 131072}, {'negentropy': 1})\n",
      "('wss://nostr.bitcoiner.social', 1747575388, True, True, True, True, True, 378, 124, 166, 'bitcoiner.social', 'A fast, reliable, and up-to-date nostr relay with monitored server availability and nightly off-site backups.', None, None, 'ece3317bf8163930b5dafae50596b740b0608433b78568886a9a712a91a5d59b', 'nostr@bitcoiner.social', None, 'git+https://github.com/hoytech/strfry.git', '1.0.4', None, None, {'max_limit': 500, 'max_subscriptions': 20, 'max_message_length': 131072}, {'negentropy': 1})\n",
      "('wss://nostr.oxtr.dev', 1747575388, True, True, True, True, True, 91, 29, 40, '0xtr relay', 'What if changing the world was just about being here, by showing up no matter how many times we get told we don’t belong..', None, 'https://blossom.oxtr.dev/7c6ffdd8bc75f19fa9bd12f8b50f7e28bca5f835dd44937a1cc82f59f54b3e0e.png', 'b2d670de53b27691c0c3400225b65c35a26d06093bcc41f48ffc71e0907f9d4a', 'mailto:oxtrr@protonmail.com', None, 'git+https://github.com/hoytech/strfry.git', '1.0.4', None, None, {'max_limit': 500, 'max_subscriptions': 40, 'max_message_length': 131072}, {'negentropy': 1})\n",
      "('wss://offchain.pub', 1747575388, True, True, True, True, True, 514, 172, 204, 'offchain.pub', 'public nostr relay running strfry', None, None, '6b1b35c6dee48851bac53a4494ca8f819503be00212dbceb899dc03acd7641db', 'admin@offchain.pub', None, 'git+https://github.com/hoytech/strfry.git', '1.0.2', None, None, {'max_limit': 500, 'max_subscriptions': 20, 'max_message_length': 131072}, {'negentropy': 1})\n",
      "('wss://nostr.mom', 1747575388, True, True, True, True, True, 91, 29, 44, 'nostr.mom', 'Rate limits. Reads reports and generates web of trust for decisions.', None, None, 'c5fadeb5d90d68baffc631455a07ca340ccf1e31110955e16d45eb5f87147cd9', 'https://wikifreedia.xyz/nostr.mom/', None, 'git+https://github.com/hoytech/strfry.git', '1.0.4', None, None, {'max_limit': 500, 'max_subscriptions': 20, 'max_message_length': 131072}, {'negentropy': 1})\n",
      "('wss://filter.nostr.wine', 1747575388, True, False, True, False, False, 604, 0, 0, None, None, None, None, None, None, None, None, None, None, None, None, None)\n",
      "('wss://feeds.nostr.band/meme', 1747575388, True, True, True, False, True, 218, 79, 72, 'Meme Hub', 'Meme aggregation relay, delivering your daily dose of laughter and wisdom.', None, None, '7f5c2b4e48a0e9feca63a46b13cdb82489f4020398d60a2070a968caa818d75d', None, None, 'https://relay.nostr.band', '0.4', None, None, None, {})\n",
      "('wss://atlas.nostr.land', 1747575388, True, True, True, False, False, 522, 0, 0, 'nostr.land', 'nostr.land family of relays (us-or-01)', None, None, '52b4a076bcbbbdc3a1aefa3735816cf74993b1b8db202b01c883c58be7fad8bd', None, None, 'custom', '1.0.1', None, None, {'auth_required': False, 'max_event_tags': 2000, 'payment_required': True, 'max_subscriptions': 20, 'max_message_length': 65535}, {'fees': {'subscription': [{'unit': 'msats', 'amount': 4000000, 'period': 2592000}]}, 'payments_url': 'https://nostr.land', 'canonical_url': 'wss://eden.nostr.land'})\n",
      "('wss://puravida.nostr.land', 1747575388, True, True, True, False, False, 525, 1, 0, 'nostr.land', 'nostr.land family of relays (us-or-01)', None, None, '52b4a076bcbbbdc3a1aefa3735816cf74993b1b8db202b01c883c58be7fad8bd', None, None, 'custom', '1.0.1', None, None, {'auth_required': False, 'max_event_tags': 2000, 'payment_required': True, 'max_subscriptions': 20, 'max_message_length': 65535}, {'fees': {'subscription': [{'unit': 'msats', 'amount': 4000000, 'period': 2592000}]}, 'payments_url': 'https://nostr.land', 'canonical_url': 'wss://eden.nostr.land'})\n",
      "('wss://welcome.nostr.wine', 1747575388, True, True, True, True, False, 600, 203, 202, 'welcome.nostr.wine', 'A read only relay that shows posts exclusively from new nostr users! Powered by nostr.wine.', None, None, '4918eb332a41b71ba9a74b1dc64276cfff592e55107b93baae38af3520e55975', 'wino@nostr.wine', None, 'git+https://github.com/hoytech/strfry.git', '0.9.6-7-g7196547', None, None, None, {})\n",
      "('wss://articles.layer3.news', 1747575388, True, True, True, True, True, 523, 199, 229, 'Layer3.news Relay', 'Layer3.news generic relay', None, None, 'admin@layer3.news                                               ', 'https://layer3.news/', None, 'git+https://github.com/hoytech/strfry.git', '1.0.4', None, None, {'max_limit': 500, 'max_subscriptions': 1000, 'max_message_length': 131072}, {'negentropy': 1})\n",
      "('wss://nostr.einundzwanzig.space', 1747575388, True, True, True, True, True, 105, 6194, 125, 'nostr-einundzwanzig-space', 'In code we trust.', None, None, '031ea306188fee631a86f1a0e49cee8f3d62592b2e7be5f8eb1788e327db340a', 'mail@einundzwanzig.space', None, 'https://git.sr.ht/~gheartsfield/nostr-rs-relay', '0.9.0', None, None, {'payment_required': False, 'restricted_writes': False}, {'id': 'wss://nostr.einundzwanzig.space/'})\n",
      "('wss://relay.nostr.com.au', 1747575388, True, True, True, True, False, 787, 270, 298, 'relay.nostr.com.au', 'A nostr relay written in Typescript.', None, None, 'e07773a92a610a28da20748fdd98bfb5af694b0cad085224801265594a98108a', 'admin@nostr.com.au', None, 'git+https://github.com/Cameri/nostream.git', '1.25.2', None, None, {'max_limit': 5000, 'min_prefix': 4, 'max_filters': 2500, 'auth_required': False, 'max_event_tags': 2500, 'max_subid_length': 256, 'payment_required': True, 'max_subscriptions': 10, 'max_content_length': 65536, 'max_message_length': 262144, 'min_pow_difficulty': 0}, {'fees': {'admission': [{'unit': 'msats', 'amount': 6969000}]}, 'payments_url': 'https://relay.nostr.com.au/invoices', 'supported_nip_extensions': ['11a']})\n",
      "('wss://no.str.cr', 1747575388, True, True, True, True, True, 586, 183, 193, 'no.str.cr', 'This is a nostr relay for Costa Rica', None, None, 'unset                                                           ', 'unset', None, 'git+https://github.com/hoytech/strfry.git', '1.0.4', None, None, {'max_limit': 500, 'max_subscriptions': 20, 'max_message_length': 131072}, {'negentropy': 1})\n",
      "('wss://bitcoiner.social', 1747575388, True, True, True, True, True, 378, 124, 250, 'bitcoiner.social', 'A fast, reliable, and up-to-date nostr relay with monitored server availability and nightly off-site backups.', None, None, 'ece3317bf8163930b5dafae50596b740b0608433b78568886a9a712a91a5d59b', 'nostr@bitcoiner.social', None, 'git+https://github.com/hoytech/strfry.git', '1.0.4', None, None, {'max_limit': 500, 'max_subscriptions': 20, 'max_message_length': 131072}, {'negentropy': 1})\n"
     ]
    }
   ],
   "source": [
    "query = \"SELECT * FROM relay_metadata\"\n",
    "bigbrotr.execute(query)\n",
    "rows = bigbrotr.fetchall()\n",
    "for row in rows:\n",
    "    print(row)"
   ]
  },
  {
   "cell_type": "code",
   "execution_count": null,
   "id": "0737e63c",
   "metadata": {},
   "outputs": [],
   "source": [
    "bigbrotr.close()"
   ]
  },
  {
   "cell_type": "markdown",
   "id": "7ce3172c",
   "metadata": {},
   "source": [
    "# relay_urls"
   ]
  },
  {
   "cell_type": "code",
   "execution_count": null,
   "id": "742d51bf",
   "metadata": {},
   "outputs": [],
   "source": [
    "import pandas as pd\n",
    "relays_url = pd.read_csv(\"../seed/relays_url.csv\")\n",
    "relays_url = relays_url.groupby('relay_url').agg({'count': 'sum'}).reset_index()\n",
    "relays_url = relays_url.sort_values(by='count', ascending=False).reset_index(drop=True)\n",
    "relays_url.to_csv(\"../seed/relays_url.csv\", index=False)"
   ]
  },
  {
   "cell_type": "markdown",
   "id": "7c71f239",
   "metadata": {},
   "source": [
    "# compute_relay_metadata"
   ]
  },
  {
   "cell_type": "code",
   "execution_count": null,
   "id": "e6779178",
   "metadata": {},
   "outputs": [],
   "source": [
    "from relay import Relay\n",
    "from aiohttp import ClientSession\n",
    "\n",
    "relay = Relay('wss://puravida.nostr.land')\n",
    "\n",
    "async def fetch_nip11_metadata(relay_id, session, timeout):\n",
    "    headers = {'Accept': 'application/nostr+json'}\n",
    "    for schema in ['https://', 'http://']:\n",
    "        try:\n",
    "            async with session.get(schema + relay_id, headers=headers, timeout=timeout) as response:\n",
    "                if response.status == 200:\n",
    "                    return await response.json()\n",
    "                else:\n",
    "                    pass\n",
    "        except Exception as e:\n",
    "            pass\n",
    "    return None\n",
    "\n",
    "relay_id = relay.url.removeprefix('wss://')\n",
    "nip11_raw = None\n",
    "async with ClientSession() as session:\n",
    "    nip11_raw = await fetch_nip11_metadata(relay_id, session, 10)\n",
    "nip11_raw"
   ]
  },
  {
   "cell_type": "code",
   "execution_count": 9,
   "id": "ec888201",
   "metadata": {},
   "outputs": [
    {
     "name": "stdout",
     "output_type": "stream",
     "text": [
      "fetch_nip11_metadata error (saltivka.org): 200, message='Attempt to decode JSON with unexpected mimetype: text/html; charset=utf-8', url='http://ww25.saltivka.org/?subid1=20250519-0136-0582-98fd-696f4d30c962'\n",
      "fetch_nip11_metadata error (saltivka.org): 200, message='Attempt to decode JSON with unexpected mimetype: text/html; charset=utf-8', url='http://ww25.saltivka.org/?subid1=20250519-0136-05de-ba91-3061efae250b'\n",
      "check_connectivity error (wss://saltivka.org): 200, message='Invalid response status', url='http://ww25.saltivka.org/?subid1=20250519-0136-06ef-896b-7130d984067d'\n",
      "check_connectivity error (ws://saltivka.org): 200, message='Invalid response status', url='http://ww25.saltivka.org/?subid1=20250519-0136-06cd-8e7b-e33790e81535'\n"
     ]
    },
    {
     "data": {
      "text/plain": [
       "{'relay': Relay(url=wss://saltivka.org, network=clearnet),\n",
       " 'generated_at': 1747582566,\n",
       " 'connection_success': False,\n",
       " 'nip11_success': False,\n",
       " 'openable': None,\n",
       " 'readable': None,\n",
       " 'writable': None,\n",
       " 'rtt_open': None,\n",
       " 'rtt_read': None,\n",
       " 'rtt_write': None,\n",
       " 'name': None,\n",
       " 'description': None,\n",
       " 'banner': None,\n",
       " 'icon': None,\n",
       " 'pubkey': None,\n",
       " 'contact': None,\n",
       " 'supported_nips': None,\n",
       " 'software': None,\n",
       " 'version': None,\n",
       " 'privacy_policy': None,\n",
       " 'terms_of_service': None,\n",
       " 'limitation': None,\n",
       " 'extra_fields': None}"
      ]
     },
     "execution_count": 9,
     "metadata": {},
     "output_type": "execute_result"
    }
   ],
   "source": [
    "from compute_relay_metadata import compute_relay_metadata\n",
    "\n",
    "sec, pub = utils.generate_nostr_keypair()\n",
    "metadata = await compute_relay_metadata(relay, sec, pub, socks5_proxy_url=None, timeout=10)\n",
    "metadata.to_dict()"
   ]
  },
  {
   "cell_type": "code",
   "execution_count": 8,
   "id": "469c8e99",
   "metadata": {},
   "outputs": [],
   "source": [
    "relay = Relay('wss://saltivka.org')\n"
   ]
  }
 ],
 "metadata": {
  "kernelspec": {
   "display_name": "venv",
   "language": "python",
   "name": "python3"
  },
  "language_info": {
   "codemirror_mode": {
    "name": "ipython",
    "version": 3
   },
   "file_extension": ".py",
   "mimetype": "text/x-python",
   "name": "python",
   "nbconvert_exporter": "python",
   "pygments_lexer": "ipython3",
   "version": "3.12.3"
  }
 },
 "nbformat": 4,
 "nbformat_minor": 5
}
