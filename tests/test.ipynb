{
 "cells": [
  {
   "cell_type": "code",
   "execution_count": 22,
   "id": "900ad03a",
   "metadata": {},
   "outputs": [],
   "source": [
    "import sys\n",
    "sys.path.append(\"../src\")\n",
    "from bigbrotr import Bigbrotr\n",
    "from event import Event\n",
    "from relay import Relay\n",
    "from relay_metadata import RelayMetadata\n",
    "import utils\n",
    "import time"
   ]
  },
  {
   "cell_type": "markdown",
   "id": "139d4e34",
   "metadata": {},
   "source": [
    "# Utils"
   ]
  },
  {
   "cell_type": "code",
   "execution_count": null,
   "id": "fda519c0",
   "metadata": {},
   "outputs": [],
   "source": [
    "private_key, public_key = utils.generate_nostr_keypair()\n",
    "e = utils.generate_event(private_key, public_key, 1, [], \"test\")\n",
    "assert utils.verify_sig(e['id'], e['pubkey'], e['sig']), \"Signature verification failed\"\n",
    "assert utils.calc_event_id(e['pubkey'], e['created_at'], e['kind'], e['tags'], e['content']) == e['id'], \"Event ID calculation failed\"\n",
    "e = Event(e['id'], e['pubkey'], e['created_at'], e['kind'], e['tags'], e['content'], e['sig'])\n",
    "e"
   ]
  },
  {
   "cell_type": "markdown",
   "id": "7bbb9854",
   "metadata": {},
   "source": [
    "# Database"
   ]
  },
  {
   "cell_type": "code",
   "execution_count": 19,
   "id": "a5d62456",
   "metadata": {},
   "outputs": [],
   "source": [
    "bigbrotr = Bigbrotr(\n",
    "    host=\"localhost\",\n",
    "    port=5432,\n",
    "    user=\"admin\",\n",
    "    password=\"admin\",\n",
    "    dbname=\"bigbrotr\"\n",
    ")"
   ]
  },
  {
   "cell_type": "code",
   "execution_count": 20,
   "id": "fabb4c40",
   "metadata": {},
   "outputs": [],
   "source": [
    "bigbrotr.connect()"
   ]
  },
  {
   "cell_type": "code",
   "execution_count": 21,
   "id": "500a8793",
   "metadata": {},
   "outputs": [],
   "source": [
    "query = \"SELECT * FROM relay_metadata\"\n",
    "bigbrotr.execute(query)\n",
    "rows = bigbrotr.fetchall()\n",
    "for row in rows:\n",
    "    print(row)"
   ]
  },
  {
   "cell_type": "code",
   "execution_count": null,
   "id": "0737e63c",
   "metadata": {},
   "outputs": [],
   "source": [
    "bigbrotr.close()"
   ]
  },
  {
   "cell_type": "markdown",
   "id": "7ce3172c",
   "metadata": {},
   "source": [
    "# relay_urls"
   ]
  },
  {
   "cell_type": "code",
   "execution_count": null,
   "id": "742d51bf",
   "metadata": {},
   "outputs": [],
   "source": [
    "import pandas as pd\n",
    "relays_url = pd.read_csv(\"../seed/relays_url.csv\")\n",
    "relays_url = relays_url.groupby('relay_url').agg({'count': 'sum'}).reset_index()\n",
    "relays_url = relays_url.sort_values(by='count', ascending=False).reset_index(drop=True)\n",
    "relays_url.to_csv(\"../seed/relays_url.csv\", index=False)"
   ]
  },
  {
   "cell_type": "markdown",
   "id": "7c71f239",
   "metadata": {},
   "source": [
    "# compute_relay_metadata"
   ]
  },
  {
   "cell_type": "code",
   "execution_count": 23,
   "id": "e6779178",
   "metadata": {},
   "outputs": [
    {
     "data": {
      "text/plain": [
       "{'name': 'nostr.hu relay',\n",
       " 'description': 'Only notes in utxo WoT',\n",
       " 'pubkey': 'cfd7df62799a22e384a4ab5da8c4026c875b119d0f47c2716b20cdac9cc1f1a6',\n",
       " 'contact': 'https://nostr.hu',\n",
       " 'supported_nips': [1, 11, 42, 70, 86, 9],\n",
       " 'software': 'https://github.com/bitvora/wot-relay',\n",
       " 'version': 'v0.1.16',\n",
       " 'icon': 'https://nostr.hu/mano64.jpg'}"
      ]
     },
     "execution_count": 23,
     "metadata": {},
     "output_type": "execute_result"
    }
   ],
   "source": [
    "from relay import Relay\n",
    "from aiohttp import ClientSession\n",
    "\n",
    "relay = Relay('wss://relay.nostr.hu')\n",
    "\n",
    "async def fetch_nip11_metadata(relay_id, session, timeout):\n",
    "    headers = {'Accept': 'application/nostr+json'}\n",
    "    for schema in ['https://', 'http://']:\n",
    "        try:\n",
    "            async with session.get(schema + relay_id, headers=headers, timeout=timeout) as response:\n",
    "                if response.status == 200:\n",
    "                    return await response.json()\n",
    "                else:\n",
    "                    pass\n",
    "        except Exception as e:\n",
    "            pass\n",
    "    return None\n",
    "\n",
    "relay_id = relay.url.removeprefix('wss://')\n",
    "nip11_raw = None\n",
    "async with ClientSession() as session:\n",
    "    nip11_raw = await fetch_nip11_metadata(relay_id, session, 10)\n",
    "nip11_raw"
   ]
  },
  {
   "cell_type": "code",
   "execution_count": 31,
   "id": "ec888201",
   "metadata": {},
   "outputs": [
    {
     "name": "stdout",
     "output_type": "stream",
     "text": [
      "Error: 429, message='Invalid response status', url='wss://relay.nostr.hu'\n"
     ]
    },
    {
     "data": {
      "text/plain": [
       "{'relay': Relay(url=wss://relay.nostr.hu, network=clearnet),\n",
       " 'generated_at': 1747542684,\n",
       " 'connection_success': False,\n",
       " 'nip11_success': True,\n",
       " 'readable': None,\n",
       " 'writable': None,\n",
       " 'rtt': None,\n",
       " 'name': 'nostr.hu relay',\n",
       " 'description': 'Only notes in utxo WoT',\n",
       " 'banner': None,\n",
       " 'icon': 'https://nostr.hu/mano64.jpg',\n",
       " 'pubkey': 'cfd7df62799a22e384a4ab5da8c4026c875b119d0f47c2716b20cdac9cc1f1a6',\n",
       " 'contact': 'https://nostr.hu',\n",
       " 'supported_nips': None,\n",
       " 'software': 'https://github.com/bitvora/wot-relay',\n",
       " 'version': 'v0.1.16',\n",
       " 'privacy_policy': None,\n",
       " 'terms_of_service': None,\n",
       " 'limitation': None,\n",
       " 'extra_fields': None}"
      ]
     },
     "execution_count": 31,
     "metadata": {},
     "output_type": "execute_result"
    }
   ],
   "source": [
    "from compute_relay_metadata import compute_relay_metadata\n",
    "\n",
    "sec, pub = utils.generate_nostr_keypair()\n",
    "metadata = await compute_relay_metadata(relay, sec, pub, socks5_proxy_url=None, timeout=10)\n",
    "metadata.to_dict()"
   ]
  }
 ],
 "metadata": {
  "kernelspec": {
   "display_name": "venv",
   "language": "python",
   "name": "python3"
  },
  "language_info": {
   "codemirror_mode": {
    "name": "ipython",
    "version": 3
   },
   "file_extension": ".py",
   "mimetype": "text/x-python",
   "name": "python",
   "nbconvert_exporter": "python",
   "pygments_lexer": "ipython3",
   "version": "3.12.3"
  }
 },
 "nbformat": 4,
 "nbformat_minor": 5
}
