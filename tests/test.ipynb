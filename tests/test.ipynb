{
 "cells": [
  {
   "cell_type": "code",
   "execution_count": null,
   "id": "900ad03a",
   "metadata": {},
   "outputs": [],
   "source": [
    "import sys\n",
    "sys.path.append(\"../src\")\n",
    "from bigbrotr import Bigbrotr\n",
    "from event import Event\n",
    "from relay import Relay\n",
    "from relay_metadata import RelayMetadata\n",
    "import utils\n",
    "import pandas as pd"
   ]
  },
  {
   "cell_type": "markdown",
   "id": "139d4e34",
   "metadata": {},
   "source": [
    "# Utils"
   ]
  },
  {
   "cell_type": "code",
   "execution_count": null,
   "id": "fda519c0",
   "metadata": {},
   "outputs": [],
   "source": [
    "private_key, public_key = utils.generate_nostr_keypair()\n",
    "e = utils.generate_event(private_key, public_key, 1, [], \"test\")\n",
    "assert utils.verify_sig(e['id'], e['pubkey'], e['sig']), \"Signature verification failed\"\n",
    "assert utils.calc_event_id(e['pubkey'], e['created_at'], e['kind'], e['tags'], e['content']) == e['id'], \"Event ID calculation failed\"\n",
    "e = Event(e['id'], e['pubkey'], e['created_at'], e['kind'], e['tags'], e['content'], e['sig'])\n",
    "e"
   ]
  },
  {
   "cell_type": "markdown",
   "id": "7bbb9854",
   "metadata": {},
   "source": [
    "# Database"
   ]
  },
  {
   "cell_type": "code",
   "execution_count": null,
   "id": "a5d62456",
   "metadata": {},
   "outputs": [],
   "source": [
    "bigbrotr = Bigbrotr(\n",
    "    host=\"localhost\",\n",
    "    port=5432,\n",
    "    user=\"admin\",\n",
    "    password=\"admin\",  \n",
    "    dbname=\"bigbrotr\"\n",
    ")"
   ]
  },
  {
   "cell_type": "code",
   "execution_count": null,
   "id": "fabb4c40",
   "metadata": {},
   "outputs": [],
   "source": [
    "bigbrotr.connect()"
   ]
  },
  {
   "cell_type": "code",
   "execution_count": null,
   "id": "20361f78",
   "metadata": {},
   "outputs": [],
   "source": [
    "query = \"\"\"\n",
    "SELECT DISTINCT relay_url\n",
    "FROM events_relays\n",
    "WHERE seen_at >= %s\n",
    "\"\"\"\n",
    "import time\n",
    "now = int(time.time()) - 120\n",
    "df = pd.read_sql(query, bigbrotr.conn, params=(now,))\n",
    "df"
   ]
  },
  {
   "cell_type": "code",
   "execution_count": null,
   "id": "aff45a6a",
   "metadata": {},
   "outputs": [],
   "source": [
    "import psycopg2\n",
    "\n",
    "def bytes_to_gb(b):\n",
    "    return b / (1024 ** 3)\n",
    "\n",
    "conn = psycopg2.connect(\n",
    "    dbname=\"bigbrotr\",\n",
    "    user=\"admin\",\n",
    "    password=\"admin\",\n",
    "    host=\"localhost\",\n",
    "    port=5432\n",
    ")\n",
    "cursor = conn.cursor()\n",
    "\n",
    "# Recupera tutte le tabelle nel tuo schema pubblico\n",
    "cursor.execute(\"\"\"\n",
    "    SELECT table_name \n",
    "    FROM information_schema.tables \n",
    "    WHERE table_schema = 'public' AND table_type = 'BASE TABLE'\n",
    "\"\"\")\n",
    "tables = [row[0] for row in cursor.fetchall()]\n",
    "\n",
    "print(\"📊 Analisi dello spazio per tabella:\\n\")\n",
    "\n",
    "for table in tables:\n",
    "    print(f\"🧾 TABELLA: {table}\")\n",
    "    \n",
    "    # Numero righe\n",
    "    cursor.execute(f\"SELECT COUNT(*) FROM {table}\")\n",
    "    total_rows = cursor.fetchone()[0]\n",
    "    print(f\"Numero righe: {total_rows}\")\n",
    "\n",
    "    if total_rows == 0:\n",
    "        print(\" (Tabella vuota)\\n\")\n",
    "        continue\n",
    "\n",
    "    # Calcola dimensione media per colonna\n",
    "    cursor.execute(f\"\"\"\n",
    "        SELECT string_agg(\n",
    "            'AVG(pg_column_size(\\\"' || column_name || '\\\")) AS \\\"' || column_name || '\\\"',\n",
    "            ', '\n",
    "        )\n",
    "        FROM information_schema.columns\n",
    "        WHERE table_name = %s AND table_schema = 'public'\n",
    "    \"\"\", (table,))\n",
    "    agg_expr = cursor.fetchone()[0]\n",
    "\n",
    "    avg_size_query = f\"SELECT {agg_expr} FROM {table}\"\n",
    "    cursor.execute(avg_size_query)\n",
    "    avg_sizes = cursor.fetchone()\n",
    "    colnames = [desc.name for desc in cursor.description]\n",
    "\n",
    "    print(\"{:<20} {:>12} {:>12}\".format(\"Colonna\", \"Avg (bytes)\", \"Totale (GB)\"))\n",
    "    total_data_bytes = 0\n",
    "\n",
    "    for i, col in enumerate(colnames):\n",
    "        avg_bytes = float(avg_sizes[i])\n",
    "        total_bytes = avg_bytes * total_rows\n",
    "        total_data_bytes += total_bytes\n",
    "        print(\"{:<20} {:>12.2f} {:>12.2f}\".format(col, avg_bytes, bytes_to_gb(total_bytes)))\n",
    "\n",
    "    print(f\"Totale dati stimati: {bytes_to_gb(total_data_bytes):.2f} GB\")\n",
    "\n",
    "    # Recupera indici della tabella con dimensione\n",
    "    cursor.execute(f\"\"\"\n",
    "        SELECT \n",
    "            indexname, \n",
    "            pg_relation_size(indexrelid) AS size_bytes\n",
    "        FROM pg_indexes\n",
    "        JOIN pg_class ON pg_class.relname = indexname\n",
    "        JOIN pg_index ON pg_class.oid = pg_index.indexrelid\n",
    "        WHERE tablename = %s\n",
    "    \"\"\", (table,))\n",
    "    index_data = cursor.fetchall()\n",
    "\n",
    "    total_index_bytes = 0\n",
    "    print(\"\\n📦 Indici:\")\n",
    "    print(\"{:<30} {:>12}\".format(\"Indice\", \"Size (GB)\"))\n",
    "    for index_name, size_bytes in index_data:\n",
    "        total_index_bytes += size_bytes\n",
    "        print(\"{:<30} {:>12.2f}\".format(index_name, bytes_to_gb(size_bytes)))\n",
    "\n",
    "    print(f\"Totale indici: {bytes_to_gb(total_index_bytes):.2f} GB\")\n",
    "    print(f\"Totale complessivo stimato: {bytes_to_gb(total_data_bytes + total_index_bytes):.2f} GB\\n\")\n",
    "    print(\"─\" * 60)\n",
    "\n",
    "cursor.close()\n",
    "conn.close()"
   ]
  },
  {
   "cell_type": "code",
   "execution_count": null,
   "id": "803a1545",
   "metadata": {},
   "outputs": [],
   "source": [
    "query = \"\"\"\n",
    "SELECT \n",
    "    relay_url,\n",
    "    COUNT(*) AS event_count\n",
    "FROM \n",
    "    events_relays\n",
    "GROUP BY \n",
    "    relay_url\n",
    "ORDER BY \n",
    "    event_count ASC;\n",
    "\"\"\"\n",
    "df = pd.read_sql(query, bigbrotr.conn)\n",
    "df"
   ]
  },
  {
   "cell_type": "code",
   "execution_count": null,
   "id": "9af4033c",
   "metadata": {},
   "outputs": [],
   "source": [
    "# plot cdf fraction of relays vs number of events\n",
    "import matplotlib.pyplot as plt\n",
    "import seaborn as sns\n",
    "sns.set_theme(style=\"whitegrid\")\n",
    "plt.figure(figsize=(10, 6))\n",
    "plt.plot(df['event_count'].value_counts().sort_index().cumsum() / df['event_count'].count(), marker='o')\n",
    "plt.title('CDF of Relays vs Number of Events')\n",
    "plt.xlabel('Number of Events')\n",
    "plt.ylabel('Cumulative Fraction of Relays')\n",
    "plt.xticks(rotation=45)\n",
    "# plt.xscale('log')\n",
    "plt.grid(True)\n",
    "plt.tight_layout()\n",
    "plt.show()\n"
   ]
  },
  {
   "cell_type": "code",
   "execution_count": null,
   "id": "d5854f3a",
   "metadata": {},
   "outputs": [],
   "source": [
    "query = \"SELECT COUNT(*) FROM events WHERE kind = 1\"\n",
    "bigbrotr.execute(query)\n",
    "rows = bigbrotr.fetchall()\n",
    "print(f\"Number of events in the database: {rows[0][0]}\")"
   ]
  },
  {
   "cell_type": "code",
   "execution_count": null,
   "id": "e2ad4aab",
   "metadata": {},
   "outputs": [],
   "source": [
    "query = \"\"\"\n",
    "SELECT relay_url, COUNT(*) AS count\n",
    "FROM relay_metadata\n",
    "GROUP BY relay_url\n",
    "ORDER BY count DESC\n",
    "\"\"\"\n",
    "\n",
    "bigbrotr.execute(query)\n",
    "rows = bigbrotr.fetchall()\n",
    "\n",
    "# Create DataFrame\n",
    "df = pd.DataFrame(rows, columns=['relay_url', 'count'])\n",
    "df"
   ]
  },
  {
   "cell_type": "code",
   "execution_count": null,
   "id": "c50b90ee",
   "metadata": {},
   "outputs": [],
   "source": [
    "df.hist(column='count', bins=50, edgecolor='black')"
   ]
  },
  {
   "cell_type": "code",
   "execution_count": null,
   "id": "925fa7fc",
   "metadata": {},
   "outputs": [],
   "source": [
    "query = '''\n",
    "SELECT DISTINCT ON (relay_url)\n",
    "    relay_url,\n",
    "    event_id\n",
    "FROM events_relays\n",
    "ORDER BY relay_url, seen_at DESC;\n",
    "'''\n",
    "bigbrotr.execute(query)\n",
    "rows = bigbrotr.fetchall()\n",
    "df = pd.DataFrame(rows, columns=['relay_url', 'event_id'])"
   ]
  },
  {
   "cell_type": "code",
   "execution_count": null,
   "id": "0911f6ca",
   "metadata": {},
   "outputs": [],
   "source": [
    "df"
   ]
  },
  {
   "cell_type": "code",
   "execution_count": null,
   "id": "226130a8",
   "metadata": {},
   "outputs": [],
   "source": [
    "df['year_month'] = pd.to_datetime(df['max_created_at'], unit='s').dt.to_period('M')"
   ]
  },
  {
   "cell_type": "code",
   "execution_count": null,
   "id": "268ce11e",
   "metadata": {},
   "outputs": [],
   "source": [
    "df.value_counts('year_month').sort_index().plot(kind='bar', figsize=(12, 6)) "
   ]
  },
  {
   "cell_type": "code",
   "execution_count": null,
   "id": "2c731ff7",
   "metadata": {},
   "outputs": [],
   "source": [
    "query = \"\"\"\n",
    "SELECT COUNT(*)\n",
    "FROM events e\n",
    "WHERE NOT EXISTS (\n",
    "    SELECT 1\n",
    "    FROM events_relays er\n",
    "    WHERE er.event_id = e.id\n",
    ");\n",
    "\"\"\"\n",
    "bigbrotr.execute(query)\n",
    "rows = bigbrotr.fetchall()\n",
    "print(f\"Number of events without relays: {rows[0][0]}\")"
   ]
  },
  {
   "cell_type": "code",
   "execution_count": null,
   "id": "e4415322",
   "metadata": {},
   "outputs": [],
   "source": [
    "query = '''\n",
    "SELECT COUNT(*)\n",
    "FROM events_relays\n",
    "WHERE relay_url = %s\n",
    "'''\n",
    "args = ('wss://relay.nostr.band',)\n",
    "bigbrotr.execute(query, args)\n",
    "rows = bigbrotr.fetchall()\n",
    "rows"
   ]
  },
  {
   "cell_type": "code",
   "execution_count": null,
   "id": "7b226916",
   "metadata": {},
   "outputs": [],
   "source": [
    "query = '''\n",
    "SELECT event_id\n",
    "FROM events_relays\n",
    "WHERE relay_url = %s\n",
    "'''\n",
    "args = ('wss://relay.nostr.band',)\n",
    "bigbrotr.execute(query, args)\n",
    "rows = bigbrotr.fetchall()\n",
    "rows = pd.DataFrame(rows, columns=['event_id'])\n",
    "event_ids = rows['event_id'].tolist()\n",
    "\n",
    "query = '''\n",
    "SELECT MAX(created_at)\n",
    "FROM events\n",
    "WHERE id = ANY(%s)\n",
    "'''\n",
    "args = (event_ids,)\n",
    "bigbrotr.execute(query, args)\n",
    "rows = bigbrotr.fetchall()\n",
    "rows"
   ]
  },
  {
   "cell_type": "code",
   "execution_count": null,
   "id": "079e5039",
   "metadata": {},
   "outputs": [],
   "source": [
    "# bigbrotr.conn.autocommit = True\n",
    "# bigbrotr.execute('VACUUM FULL events;')\n",
    "# bigbrotr.execute('VACUUM FULL events_relays;')\n",
    "# bigbrotr.execute('VACUUM FULL relay_metadata;')\n",
    "# bigbrotr.execute('VACUUM FULL relays;')"
   ]
  },
  {
   "cell_type": "code",
   "execution_count": null,
   "id": "0737e63c",
   "metadata": {},
   "outputs": [],
   "source": [
    "bigbrotr.close()"
   ]
  }
 ],
 "metadata": {
  "kernelspec": {
   "display_name": "venv",
   "language": "python",
   "name": "python3"
  },
  "language_info": {
   "codemirror_mode": {
    "name": "ipython",
    "version": 3
   },
   "file_extension": ".py",
   "mimetype": "text/x-python",
   "name": "python",
   "nbconvert_exporter": "python",
   "pygments_lexer": "ipython3",
   "version": "3.12.3"
  }
 },
 "nbformat": 4,
 "nbformat_minor": 5
}
