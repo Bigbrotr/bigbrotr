{
 "cells": [
  {
   "cell_type": "code",
   "execution_count": 18,
   "id": "900ad03a",
   "metadata": {},
   "outputs": [],
   "source": [
    "import sys\n",
    "sys.path.append(\"../src\")\n",
    "from bigbrotr import Bigbrotr\n",
    "from event import Event\n",
    "from relay import Relay\n",
    "from relay_metadata import RelayMetadata\n",
    "import utils\n",
    "import time"
   ]
  },
  {
   "cell_type": "markdown",
   "id": "139d4e34",
   "metadata": {},
   "source": [
    "# Utils"
   ]
  },
  {
   "cell_type": "code",
   "execution_count": null,
   "id": "fda519c0",
   "metadata": {},
   "outputs": [],
   "source": [
    "private_key, public_key = utils.generate_nostr_keypair()\n",
    "e = utils.generate_event(private_key, public_key, 1, [], \"test\")\n",
    "assert utils.verify_sig(e['id'], e['pubkey'], e['sig']), \"Signature verification failed\"\n",
    "assert utils.calc_event_id(e['pubkey'], e['created_at'], e['kind'], e['tags'], e['content']) == e['id'], \"Event ID calculation failed\"\n",
    "e = Event(e['id'], e['pubkey'], e['created_at'], e['kind'], e['tags'], e['content'], e['sig'])\n",
    "e"
   ]
  },
  {
   "cell_type": "markdown",
   "id": "7bbb9854",
   "metadata": {},
   "source": [
    "# Database"
   ]
  },
  {
   "cell_type": "code",
   "execution_count": 19,
   "id": "a5d62456",
   "metadata": {},
   "outputs": [],
   "source": [
    "bigbrotr = Bigbrotr(\n",
    "    host=\"localhost\",\n",
    "    port=5432,\n",
    "    user=\"admin\",\n",
    "    password=\"admin\",\n",
    "    dbname=\"bigbrotr\"\n",
    ")"
   ]
  },
  {
   "cell_type": "code",
   "execution_count": 20,
   "id": "fabb4c40",
   "metadata": {},
   "outputs": [],
   "source": [
    "bigbrotr.connect()"
   ]
  },
  {
   "cell_type": "code",
   "execution_count": 21,
   "id": "500a8793",
   "metadata": {},
   "outputs": [],
   "source": [
    "query = \"SELECT * FROM relay_metadata\"\n",
    "bigbrotr.execute(query)\n",
    "rows = bigbrotr.fetchall()\n",
    "for row in rows:\n",
    "    print(row)"
   ]
  },
  {
   "cell_type": "code",
   "execution_count": null,
   "id": "0737e63c",
   "metadata": {},
   "outputs": [],
   "source": [
    "bigbrotr.close()"
   ]
  },
  {
   "cell_type": "markdown",
   "id": "7ce3172c",
   "metadata": {},
   "source": [
    "# relay_urls"
   ]
  },
  {
   "cell_type": "code",
   "execution_count": null,
   "id": "742d51bf",
   "metadata": {},
   "outputs": [],
   "source": [
    "import pandas as pd\n",
    "relays_url = pd.read_csv(\"../seed/relays_url.csv\")\n",
    "relays_url = relays_url.groupby('relay_url').agg({'count': 'sum'}).reset_index()\n",
    "relays_url = relays_url.sort_values(by='count', ascending=False).reset_index(drop=True)\n",
    "relays_url.to_csv(\"../seed/relays_url.csv\", index=False)"
   ]
  },
  {
   "cell_type": "markdown",
   "id": "7c71f239",
   "metadata": {},
   "source": [
    "# compute_relay_metadata"
   ]
  },
  {
   "cell_type": "code",
   "execution_count": 17,
   "id": "e6779178",
   "metadata": {},
   "outputs": [
    {
     "data": {
      "text/plain": [
       "{'@context': ['https://join-lemmy.org/context.json',\n",
       "  'https://www.w3.org/ns/activitystreams'],\n",
       " 'type': 'Application',\n",
       " 'id': 'https://hilariouschaos.com/',\n",
       " 'name': 'Hilarious Chaos',\n",
       " 'preferredUsername': 'hilariouschaos.com',\n",
       " 'inbox': 'https://hilariouschaos.com/inbox',\n",
       " 'outbox': 'https://hilariouschaos.com/site_outbox',\n",
       " 'publicKey': {'id': 'https://hilariouschaos.com/#main-key',\n",
       "  'owner': 'https://hilariouschaos.com/',\n",
       "  'publicKeyPem': '-----BEGIN PUBLIC KEY-----\\nMIIBIjANBgkqhkiG9w0BAQEFAAOCAQ8AMIIBCgKCAQEAtoxiwzOgNEclE3LSxkFB\\nYpNOD1/FJu891peiuBMZWuf3SjRqmAFXXE2zKExhCXolPdmLpdRrRMsuDY+rc8ZI\\nRrF+yK/WGkb8ZxWnSUuy6lwVt3V+dawQ1QL0G3t+O5lfumeK3fmwvVWwaSgExLsL\\nVbeB5ULGTK6ZOmUNe+N5s7+KMpehfGb1l17oxOkyQVAVKt3Gc0shn1fDiyiFZjCz\\n+hMhBOGljPyUQsCzFKpgpaIJ2D7fbwp5sfZ642FDfsvIfUsChMd5Zn4SDijBy3Xg\\nc8T3uY2siNTmdbg+PdsIdsiV12U0aOGdrkVDYwFQRlVoeglISiEOuSkugD8jzNc9\\n6QIDAQAB\\n-----END PUBLIC KEY-----\\n'},\n",
       " 'content': '<p><strong>Welcome to Hilarious Chaos!</strong></p>\\n<p>You are welcome to be yourself here. Engage in discussions, post funny shit, talk, create communities, and most importantly, HAVE FUN.</p>\\n<p>We are a down to earth instance who doesn’t get our feelings hurt or offended easily. If you have any questions AND have already made an account, please feel free to message Alice.</p>\\n<p>We hope this becomes your new online home!</p>\\n<p>Questions?</p>\\n<p>• Post it in <a href=\"https://hilariouschaos.com/c/askhilariouschaos\" rel=\"nofollow\">!askhilariouschaos</a></p>\\n<p><img src=\"https://status.okelk.com/api/badge/17/uptime/168?color=e7028d&amp;labelColor=4200aa\" alt=\"\" /></p>\\n',\n",
       " 'source': {'content': \"**Welcome to Hilarious Chaos!**\\n\\nYou are welcome to be yourself here. Engage in discussions, post funny shit, talk, create communities, and most importantly, HAVE FUN.\\n\\nWe are a down to earth instance who doesn't get our feelings hurt or offended easily. If you have any questions AND have already made an account, please feel free to message Alice. \\n\\nWe hope this becomes your new online home!\\n\\nQuestions?\\n\\n• Post it in [!askhilariouschaos](https://hilariouschaos.com/c/askhilariouschaos)\\n\\n![](https://status.okelk.com/api/badge/17/uptime/168?color=e7028d&labelColor=4200aa)\",\n",
       "  'mediaType': 'text/markdown'},\n",
       " 'summary': 'A Dope Ass Lemmy Community',\n",
       " 'mediaType': 'text/html',\n",
       " 'icon': {'type': 'Image',\n",
       "  'url': 'https://hilariouschaos.com/pictrs/image/78983b5d-bdac-4cf5-9f79-9f3759ef3cba.png'},\n",
       " 'image': {'type': 'Image',\n",
       "  'url': 'https://hilariouschaos.com/pictrs/image/e758cff6-c546-4639-b3d5-f85e9e3c4ffe.jpeg'},\n",
       " 'language': [{'identifier': 'und', 'name': 'Undetermined'},\n",
       "  {'identifier': 'en', 'name': 'English'}],\n",
       " 'published': '2023-12-01T11:56:58.221913Z',\n",
       " 'updated': '2025-03-14T03:00:59.474262Z'}"
      ]
     },
     "execution_count": 17,
     "metadata": {},
     "output_type": "execute_result"
    }
   ],
   "source": [
    "from relay import Relay\n",
    "from aiohttp import ClientSession, ClientTimeout\n",
    "\n",
    "relay = Relay('wss://hilariouschaos.com')\n",
    "\n",
    "async def fetch_nip11_metadata(relay_id, session, timeout):\n",
    "    headers = {'Accept': 'application/nostr+json'}\n",
    "    for schema in ['https://', 'http://']:\n",
    "        try:\n",
    "            async with session.get(schema + relay_id, headers=headers, timeout=timeout) as response:\n",
    "                if response.status == 200:\n",
    "                    return await response.json()\n",
    "                else:\n",
    "                    pass\n",
    "        except Exception as e:\n",
    "            pass\n",
    "    return None\n",
    "\n",
    "relay_id = relay.url.removeprefix('wss://')\n",
    "nip11_raw = None\n",
    "async with ClientSession() as session:\n",
    "    nip11_raw = await fetch_nip11_metadata(relay_id, session, 10)\n",
    "nip11_raw"
   ]
  }
 ],
 "metadata": {
  "kernelspec": {
   "display_name": "venv",
   "language": "python",
   "name": "python3"
  },
  "language_info": {
   "codemirror_mode": {
    "name": "ipython",
    "version": 3
   },
   "file_extension": ".py",
   "mimetype": "text/x-python",
   "name": "python",
   "nbconvert_exporter": "python",
   "pygments_lexer": "ipython3",
   "version": "3.12.3"
  }
 },
 "nbformat": 4,
 "nbformat_minor": 5
}
