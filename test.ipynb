{
 "cells": [
  {
   "cell_type": "code",
   "execution_count": 1,
   "id": "900ad03a",
   "metadata": {},
   "outputs": [],
   "source": [
    "from bigbrotr import Bigbrotr\n",
    "from event import Event\n",
    "from relay import Relay\n",
    "from relay_metadata import RelayMetadata\n",
    "import utils"
   ]
  },
  {
   "cell_type": "code",
   "execution_count": 2,
   "id": "a5d62456",
   "metadata": {},
   "outputs": [],
   "source": [
    "bigbrotr = Bigbrotr(\n",
    "    host=\"localhost\",\n",
    "    port=5432,\n",
    "    user=\"admin\",\n",
    "    password=\"admin\",\n",
    "    dbname=\"bigbrotr\"\n",
    ")"
   ]
  },
  {
   "cell_type": "code",
   "execution_count": 3,
   "id": "fabb4c40",
   "metadata": {},
   "outputs": [],
   "source": [
    "bigbrotr.connect()"
   ]
  },
  {
   "cell_type": "code",
   "execution_count": 4,
   "id": "500a8793",
   "metadata": {},
   "outputs": [],
   "source": [
    "query = \"SELECT * FROM relays\"\n",
    "bigbrotr.execute(query)\n",
    "rows = bigbrotr.fetchall()\n",
    "for row in rows:\n",
    "    print(row)"
   ]
  },
  {
   "cell_type": "code",
   "execution_count": 5,
   "id": "0737e63c",
   "metadata": {},
   "outputs": [],
   "source": [
    "bigbrotr.close()"
   ]
  }
 ],
 "metadata": {
  "kernelspec": {
   "display_name": "venv",
   "language": "python",
   "name": "python3"
  },
  "language_info": {
   "codemirror_mode": {
    "name": "ipython",
    "version": 3
   },
   "file_extension": ".py",
   "mimetype": "text/x-python",
   "name": "python",
   "nbconvert_exporter": "python",
   "pygments_lexer": "ipython3",
   "version": "3.12.3"
  }
 },
 "nbformat": 4,
 "nbformat_minor": 5
}
