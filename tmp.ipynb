{
 "cells": [
  {
   "cell_type": "code",
   "execution_count": 29,
   "id": "37ee0b7a",
   "metadata": {},
   "outputs": [],
   "source": [
    "import pandas as pd\n",
    "import asyncio\n",
    "import websockets\n",
    "import json\n",
    "import uuid\n",
    "import time\n",
    "import requests"
   ]
  },
  {
   "cell_type": "code",
   "execution_count": 35,
   "id": "d346da24",
   "metadata": {},
   "outputs": [],
   "source": [
    "async def ping_relay(relay_url):\n",
    "    rtt_ms = None\n",
    "    try:\n",
    "        start = time.time()\n",
    "        async with websockets.connect(relay_url) as ws:\n",
    "            end = time.time()\n",
    "            rtt_ms = int((end - start) * 1000)\n",
    "    except KeyboardInterrupt:\n",
    "        raise KeyboardInterrupt\n",
    "    except Exception as e:\n",
    "        print(f\"Error connecting to {relay_url}: {e}\")\n",
    "    return rtt_ms\n",
    "\n",
    "def fetch_relay_info(url):\n",
    "    headers = {'Accept': 'application/nostr+json'}\n",
    "    data = None\n",
    "    error = None\n",
    "    relay_url = url[6:] if url.startswith('wss://') else url[5:] if url.startswith('ws://') else url\n",
    "    try:\n",
    "        response = requests.get(f\"https://{relay_url}\", headers=headers, timeout=10)\n",
    "        if response.status_code == 200:\n",
    "            data = response.json()\n",
    "        else:\n",
    "            error = response.text\n",
    "    except Exception:\n",
    "        try:\n",
    "            response = requests.get(f\"http://{relay_url}\", headers=headers, timeout=10)\n",
    "            if response.status_code == 200:\n",
    "                data = response.json()\n",
    "            else:\n",
    "                error = response.text\n",
    "        except Exception as e:\n",
    "            error = str(e)\n",
    "    return url, {'data': data, 'error': error}\n",
    "\n",
    "rtt_ms = await ping_relay('wss://relay.damus.io')\n",
    "url, info = fetch_relay_info('wss://relay.damus.io')"
   ]
  },
  {
   "cell_type": "code",
   "execution_count": 37,
   "id": "342c6990",
   "metadata": {},
   "outputs": [
    {
     "name": "stdout",
     "output_type": "stream",
     "text": [
      "Error connecting to wss://hcog4c6zjosd3soueyiitcg3jzq6ehwblles5n5snpv477unsrvz26qd.onion: [Errno -2] Name or service not known\n"
     ]
    }
   ],
   "source": [
    "await ping_relay(\"wss://hcog4c6zjosd3soueyiitcg3jzq6ehwblles5n5snpv477unsrvz26qd.onion\")"
   ]
  },
  {
   "cell_type": "code",
   "execution_count": null,
   "id": "b65d84cd",
   "metadata": {},
   "outputs": [
    {
     "name": "stdout",
     "output_type": "stream",
     "text": [
      "Checking wss://relay.damus.io\n",
      "Connected to wss://relay.damus.io\n",
      "Done\n",
      "Checking wss://nostr-pub.wellorder.net\n",
      "Connected to wss://nostr-pub.wellorder.net\n",
      "Done\n",
      "Checking wss://nostr.mom\n",
      "Connected to wss://nostr.mom\n",
      "Done\n",
      "Checking wss://nostr.slothy.win\n",
      "Failed to connect to wss://nostr.slothy.win: server rejected WebSocket connection: HTTP 403\n",
      "Done\n",
      "Checking wss://nostr.einundzwanzig.space\n",
      "Connected to wss://nostr.einundzwanzig.space\n",
      "Done\n",
      "Checking wss://nos.lol\n",
      "Connected to wss://nos.lol\n",
      "Done\n",
      "Checking wss://relay.nostr.band\n",
      "Connected to wss://relay.nostr.band\n",
      "Done\n",
      "Checking wss://no.str.cr\n",
      "Connected to wss://no.str.cr\n",
      "Done\n",
      "Checking wss://relay.cryptocculture.com\n",
      "Done\n"
     ]
    },
    {
     "ename": "CancelledError",
     "evalue": "",
     "output_type": "error",
     "traceback": [
      "\u001b[31m---------------------------------------------------------------------------\u001b[39m",
      "\u001b[31mCancelledError\u001b[39m                            Traceback (most recent call last)",
      "\u001b[36mCell\u001b[39m\u001b[36m \u001b[39m\u001b[32mIn[6]\u001b[39m\u001b[32m, line 8\u001b[39m\n\u001b[32m      6\u001b[39m \u001b[38;5;28;01mtry\u001b[39;00m:\n\u001b[32m      7\u001b[39m     \u001b[38;5;28mprint\u001b[39m(\u001b[33mf\u001b[39m\u001b[33m'\u001b[39m\u001b[33mChecking \u001b[39m\u001b[38;5;132;01m{\u001b[39;00murl\u001b[38;5;132;01m}\u001b[39;00m\u001b[33m'\u001b[39m)\n\u001b[32m----> \u001b[39m\u001b[32m8\u001b[39m     \u001b[38;5;28;01masync\u001b[39;00m \u001b[38;5;28;01mwith\u001b[39;00m websockets.connect(url) \u001b[38;5;28;01mas\u001b[39;00m ws:\n\u001b[32m      9\u001b[39m         \u001b[38;5;28mprint\u001b[39m(\u001b[33mf\u001b[39m\u001b[33m'\u001b[39m\u001b[33mConnected to \u001b[39m\u001b[38;5;132;01m{\u001b[39;00murl\u001b[38;5;132;01m}\u001b[39;00m\u001b[33m'\u001b[39m)\n\u001b[32m     10\u001b[39m \u001b[38;5;28;01mexcept\u001b[39;00m \u001b[38;5;167;01mException\u001b[39;00m \u001b[38;5;28;01mas\u001b[39;00m e:\n",
      "\u001b[36mFile \u001b[39m\u001b[32m~/Documents/GitHub/Nostr-Network/venv/lib/python3.12/site-packages/websockets/asyncio/client.py:587\u001b[39m, in \u001b[36mconnect.__aenter__\u001b[39m\u001b[34m(self)\u001b[39m\n\u001b[32m    586\u001b[39m \u001b[38;5;28;01masync\u001b[39;00m \u001b[38;5;28;01mdef\u001b[39;00m\u001b[38;5;250m \u001b[39m\u001b[34m__aenter__\u001b[39m(\u001b[38;5;28mself\u001b[39m) -> ClientConnection:\n\u001b[32m--> \u001b[39m\u001b[32m587\u001b[39m     \u001b[38;5;28;01mreturn\u001b[39;00m \u001b[38;5;28;01mawait\u001b[39;00m \u001b[38;5;28mself\u001b[39m\n",
      "\u001b[36mFile \u001b[39m\u001b[32m~/Documents/GitHub/Nostr-Network/venv/lib/python3.12/site-packages/websockets/asyncio/client.py:543\u001b[39m, in \u001b[36mconnect.__await_impl__\u001b[39m\u001b[34m(self)\u001b[39m\n\u001b[32m    541\u001b[39m \u001b[38;5;28mself\u001b[39m.connection = \u001b[38;5;28;01mawait\u001b[39;00m \u001b[38;5;28mself\u001b[39m.create_connection()\n\u001b[32m    542\u001b[39m \u001b[38;5;28;01mtry\u001b[39;00m:\n\u001b[32m--> \u001b[39m\u001b[32m543\u001b[39m     \u001b[38;5;28;01mawait\u001b[39;00m \u001b[38;5;28mself\u001b[39m.connection.handshake(\n\u001b[32m    544\u001b[39m         \u001b[38;5;28mself\u001b[39m.additional_headers,\n\u001b[32m    545\u001b[39m         \u001b[38;5;28mself\u001b[39m.user_agent_header,\n\u001b[32m    546\u001b[39m     )\n\u001b[32m    547\u001b[39m \u001b[38;5;28;01mexcept\u001b[39;00m asyncio.CancelledError:\n\u001b[32m    548\u001b[39m     \u001b[38;5;28mself\u001b[39m.connection.transport.abort()\n",
      "\u001b[36mFile \u001b[39m\u001b[32m~/Documents/GitHub/Nostr-Network/venv/lib/python3.12/site-packages/websockets/asyncio/client.py:104\u001b[39m, in \u001b[36mClientConnection.handshake\u001b[39m\u001b[34m(self, additional_headers, user_agent_header)\u001b[39m\n\u001b[32m    101\u001b[39m         \u001b[38;5;28mself\u001b[39m.request.headers.setdefault(\u001b[33m\"\u001b[39m\u001b[33mUser-Agent\u001b[39m\u001b[33m\"\u001b[39m, user_agent_header)\n\u001b[32m    102\u001b[39m     \u001b[38;5;28mself\u001b[39m.protocol.send_request(\u001b[38;5;28mself\u001b[39m.request)\n\u001b[32m--> \u001b[39m\u001b[32m104\u001b[39m \u001b[38;5;28;01mawait\u001b[39;00m asyncio.wait(\n\u001b[32m    105\u001b[39m     [\u001b[38;5;28mself\u001b[39m.response_rcvd, \u001b[38;5;28mself\u001b[39m.connection_lost_waiter],\n\u001b[32m    106\u001b[39m     return_when=asyncio.FIRST_COMPLETED,\n\u001b[32m    107\u001b[39m )\n\u001b[32m    109\u001b[39m \u001b[38;5;66;03m# self.protocol.handshake_exc is set when the connection is lost before\u001b[39;00m\n\u001b[32m    110\u001b[39m \u001b[38;5;66;03m# receiving a response, when the response cannot be parsed, or when the\u001b[39;00m\n\u001b[32m    111\u001b[39m \u001b[38;5;66;03m# response fails the handshake.\u001b[39;00m\n\u001b[32m    113\u001b[39m \u001b[38;5;28;01mif\u001b[39;00m \u001b[38;5;28mself\u001b[39m.protocol.handshake_exc \u001b[38;5;129;01mis\u001b[39;00m \u001b[38;5;129;01mnot\u001b[39;00m \u001b[38;5;28;01mNone\u001b[39;00m:\n",
      "\u001b[36mFile \u001b[39m\u001b[32m/usr/lib/python3.12/asyncio/tasks.py:464\u001b[39m, in \u001b[36mwait\u001b[39m\u001b[34m(fs, timeout, return_when)\u001b[39m\n\u001b[32m    461\u001b[39m     \u001b[38;5;28;01mraise\u001b[39;00m \u001b[38;5;167;01mTypeError\u001b[39;00m(\u001b[33m\"\u001b[39m\u001b[33mPassing coroutines is forbidden, use tasks explicitly.\u001b[39m\u001b[33m\"\u001b[39m)\n\u001b[32m    463\u001b[39m loop = events.get_running_loop()\n\u001b[32m--> \u001b[39m\u001b[32m464\u001b[39m \u001b[38;5;28;01mreturn\u001b[39;00m \u001b[38;5;28;01mawait\u001b[39;00m _wait(fs, timeout, return_when, loop)\n",
      "\u001b[36mFile \u001b[39m\u001b[32m/usr/lib/python3.12/asyncio/tasks.py:550\u001b[39m, in \u001b[36m_wait\u001b[39m\u001b[34m(fs, timeout, return_when, loop)\u001b[39m\n\u001b[32m    547\u001b[39m     f.add_done_callback(_on_completion)\n\u001b[32m    549\u001b[39m \u001b[38;5;28;01mtry\u001b[39;00m:\n\u001b[32m--> \u001b[39m\u001b[32m550\u001b[39m     \u001b[38;5;28;01mawait\u001b[39;00m waiter\n\u001b[32m    551\u001b[39m \u001b[38;5;28;01mfinally\u001b[39;00m:\n\u001b[32m    552\u001b[39m     \u001b[38;5;28;01mif\u001b[39;00m timeout_handle \u001b[38;5;129;01mis\u001b[39;00m \u001b[38;5;129;01mnot\u001b[39;00m \u001b[38;5;28;01mNone\u001b[39;00m:\n",
      "\u001b[31mCancelledError\u001b[39m: "
     ]
    }
   ],
   "source": [
    "relays = pd.read_csv('../data/raw/relays_url.csv')\n",
    "for url in relays['url']:\n",
    "    try:\n",
    "        async with websockets.connect(url) as ws:\n",
    "            print(f'Connected to {url}')\n",
    "    except Exception as e:\n",
    "        print(f'Failed to connect to {url}: {e}')\n",
    "    finally:\n",
    "        print('Done')"
   ]
  },
  {
   "cell_type": "code",
   "execution_count": null,
   "id": "7ffbf05e",
   "metadata": {},
   "outputs": [
    {
     "ename": "InvalidStatus",
     "evalue": "server rejected WebSocket connection: HTTP 403",
     "output_type": "error",
     "traceback": [
      "\u001b[31m---------------------------------------------------------------------------\u001b[39m",
      "\u001b[31mInvalidStatus\u001b[39m                             Traceback (most recent call last)",
      "\u001b[36mCell\u001b[39m\u001b[36m \u001b[39m\u001b[32mIn[2]\u001b[39m\u001b[32m, line 82\u001b[39m\n\u001b[32m     79\u001b[39m     from_time = to_time - \u001b[32m600\u001b[39m\n\u001b[32m     80\u001b[39m     \u001b[38;5;28;01mreturn\u001b[39;00m \u001b[38;5;28;01mawait\u001b[39;00m fetch_events(\u001b[32m0\u001b[39m, \u001b[32m1727090175\u001b[39m)\n\u001b[32m---> \u001b[39m\u001b[32m82\u001b[39m events = \u001b[38;5;28;01mawait\u001b[39;00m main()\n",
      "\u001b[36mCell\u001b[39m\u001b[36m \u001b[39m\u001b[32mIn[2]\u001b[39m\u001b[32m, line 80\u001b[39m, in \u001b[36mmain\u001b[39m\u001b[34m()\u001b[39m\n\u001b[32m     78\u001b[39m to_time = \u001b[38;5;28mint\u001b[39m(time.time())\n\u001b[32m     79\u001b[39m from_time = to_time - \u001b[32m600\u001b[39m\n\u001b[32m---> \u001b[39m\u001b[32m80\u001b[39m \u001b[38;5;28;01mreturn\u001b[39;00m \u001b[38;5;28;01mawait\u001b[39;00m fetch_events(\u001b[32m0\u001b[39m, \u001b[32m1727090175\u001b[39m)\n",
      "\u001b[36mCell\u001b[39m\u001b[36m \u001b[39m\u001b[32mIn[2]\u001b[39m\u001b[32m, line 20\u001b[39m, in \u001b[36mfetch_events\u001b[39m\u001b[34m(from_ts, to_ts)\u001b[39m\n\u001b[32m     13\u001b[39m subscription_id = \u001b[38;5;28mstr\u001b[39m(uuid.uuid4())[:\u001b[32m64\u001b[39m]\n\u001b[32m     14\u001b[39m filter_obj = {\n\u001b[32m     15\u001b[39m     \u001b[38;5;66;03m# \"since\": from_ts,\u001b[39;00m\n\u001b[32m     16\u001b[39m     \u001b[38;5;66;03m# \"until\": to_ts,\u001b[39;00m\n\u001b[32m     17\u001b[39m     \u001b[38;5;66;03m# \"limit\": 10\u001b[39;00m\n\u001b[32m     18\u001b[39m }\n\u001b[32m---> \u001b[39m\u001b[32m20\u001b[39m \u001b[38;5;28;01masync\u001b[39;00m \u001b[38;5;28;01mwith\u001b[39;00m websockets.connect(RELAY_URL) \u001b[38;5;28;01mas\u001b[39;00m ws:\n\u001b[32m     21\u001b[39m     \u001b[38;5;28mprint\u001b[39m(\u001b[33mf\u001b[39m\u001b[33m\"\u001b[39m\u001b[33mConnesso a \u001b[39m\u001b[38;5;132;01m{\u001b[39;00mRELAY_URL\u001b[38;5;132;01m}\u001b[39;00m\u001b[33m\"\u001b[39m)\n\u001b[32m     23\u001b[39m     req_msg = [\u001b[33m\"\u001b[39m\u001b[33mREQ\u001b[39m\u001b[33m\"\u001b[39m, subscription_id, filter_obj]\n",
      "\u001b[36mFile \u001b[39m\u001b[32m~/Documents/GitHub/Nostr-Network/venv/lib/python3.12/site-packages/websockets/asyncio/client.py:587\u001b[39m, in \u001b[36mconnect.__aenter__\u001b[39m\u001b[34m(self)\u001b[39m\n\u001b[32m    586\u001b[39m \u001b[38;5;28;01masync\u001b[39;00m \u001b[38;5;28;01mdef\u001b[39;00m\u001b[38;5;250m \u001b[39m\u001b[34m__aenter__\u001b[39m(\u001b[38;5;28mself\u001b[39m) -> ClientConnection:\n\u001b[32m--> \u001b[39m\u001b[32m587\u001b[39m     \u001b[38;5;28;01mreturn\u001b[39;00m \u001b[38;5;28;01mawait\u001b[39;00m \u001b[38;5;28mself\u001b[39m\n",
      "\u001b[36mFile \u001b[39m\u001b[32m~/Documents/GitHub/Nostr-Network/venv/lib/python3.12/site-packages/websockets/asyncio/client.py:543\u001b[39m, in \u001b[36mconnect.__await_impl__\u001b[39m\u001b[34m(self)\u001b[39m\n\u001b[32m    541\u001b[39m \u001b[38;5;28mself\u001b[39m.connection = \u001b[38;5;28;01mawait\u001b[39;00m \u001b[38;5;28mself\u001b[39m.create_connection()\n\u001b[32m    542\u001b[39m \u001b[38;5;28;01mtry\u001b[39;00m:\n\u001b[32m--> \u001b[39m\u001b[32m543\u001b[39m     \u001b[38;5;28;01mawait\u001b[39;00m \u001b[38;5;28mself\u001b[39m.connection.handshake(\n\u001b[32m    544\u001b[39m         \u001b[38;5;28mself\u001b[39m.additional_headers,\n\u001b[32m    545\u001b[39m         \u001b[38;5;28mself\u001b[39m.user_agent_header,\n\u001b[32m    546\u001b[39m     )\n\u001b[32m    547\u001b[39m \u001b[38;5;28;01mexcept\u001b[39;00m asyncio.CancelledError:\n\u001b[32m    548\u001b[39m     \u001b[38;5;28mself\u001b[39m.connection.transport.abort()\n",
      "\u001b[36mFile \u001b[39m\u001b[32m~/Documents/GitHub/Nostr-Network/venv/lib/python3.12/site-packages/websockets/asyncio/client.py:114\u001b[39m, in \u001b[36mClientConnection.handshake\u001b[39m\u001b[34m(self, additional_headers, user_agent_header)\u001b[39m\n\u001b[32m    109\u001b[39m \u001b[38;5;66;03m# self.protocol.handshake_exc is set when the connection is lost before\u001b[39;00m\n\u001b[32m    110\u001b[39m \u001b[38;5;66;03m# receiving a response, when the response cannot be parsed, or when the\u001b[39;00m\n\u001b[32m    111\u001b[39m \u001b[38;5;66;03m# response fails the handshake.\u001b[39;00m\n\u001b[32m    113\u001b[39m \u001b[38;5;28;01mif\u001b[39;00m \u001b[38;5;28mself\u001b[39m.protocol.handshake_exc \u001b[38;5;129;01mis\u001b[39;00m \u001b[38;5;129;01mnot\u001b[39;00m \u001b[38;5;28;01mNone\u001b[39;00m:\n\u001b[32m--> \u001b[39m\u001b[32m114\u001b[39m     \u001b[38;5;28;01mraise\u001b[39;00m \u001b[38;5;28mself\u001b[39m.protocol.handshake_exc\n",
      "\u001b[36mFile \u001b[39m\u001b[32m~/Documents/GitHub/Nostr-Network/venv/lib/python3.12/site-packages/websockets/client.py:325\u001b[39m, in \u001b[36mClientProtocol.parse\u001b[39m\u001b[34m(self)\u001b[39m\n\u001b[32m    322\u001b[39m         \u001b[38;5;28mself\u001b[39m.logger.debug(\u001b[33m\"\u001b[39m\u001b[33m< [body] (\u001b[39m\u001b[38;5;132;01m%d\u001b[39;00m\u001b[33m bytes)\u001b[39m\u001b[33m\"\u001b[39m, \u001b[38;5;28mlen\u001b[39m(response.body))\n\u001b[32m    324\u001b[39m \u001b[38;5;28;01mtry\u001b[39;00m:\n\u001b[32m--> \u001b[39m\u001b[32m325\u001b[39m     \u001b[38;5;28;43mself\u001b[39;49m\u001b[43m.\u001b[49m\u001b[43mprocess_response\u001b[49m\u001b[43m(\u001b[49m\u001b[43mresponse\u001b[49m\u001b[43m)\u001b[49m\n\u001b[32m    326\u001b[39m \u001b[38;5;28;01mexcept\u001b[39;00m InvalidHandshake \u001b[38;5;28;01mas\u001b[39;00m exc:\n\u001b[32m    327\u001b[39m     response._exception = exc\n",
      "\u001b[36mFile \u001b[39m\u001b[32m~/Documents/GitHub/Nostr-Network/venv/lib/python3.12/site-packages/websockets/client.py:142\u001b[39m, in \u001b[36mClientProtocol.process_response\u001b[39m\u001b[34m(self, response)\u001b[39m\n\u001b[32m    130\u001b[39m \u001b[38;5;250m\u001b[39m\u001b[33;03m\"\"\"\u001b[39;00m\n\u001b[32m    131\u001b[39m \u001b[33;03mCheck a handshake response.\u001b[39;00m\n\u001b[32m    132\u001b[39m \n\u001b[32m   (...)\u001b[39m\u001b[32m    138\u001b[39m \n\u001b[32m    139\u001b[39m \u001b[33;03m\"\"\"\u001b[39;00m\n\u001b[32m    141\u001b[39m \u001b[38;5;28;01mif\u001b[39;00m response.status_code != \u001b[32m101\u001b[39m:\n\u001b[32m--> \u001b[39m\u001b[32m142\u001b[39m     \u001b[38;5;28;01mraise\u001b[39;00m InvalidStatus(response)\n\u001b[32m    144\u001b[39m headers = response.headers\n\u001b[32m    146\u001b[39m connection: \u001b[38;5;28mlist\u001b[39m[ConnectionOption] = \u001b[38;5;28msum\u001b[39m(\n\u001b[32m    147\u001b[39m     [parse_connection(value) \u001b[38;5;28;01mfor\u001b[39;00m value \u001b[38;5;129;01min\u001b[39;00m headers.get_all(\u001b[33m\"\u001b[39m\u001b[33mConnection\u001b[39m\u001b[33m\"\u001b[39m)], []\n\u001b[32m    148\u001b[39m )\n",
      "\u001b[31mInvalidStatus\u001b[39m: server rejected WebSocket connection: HTTP 403"
     ]
    }
   ],
   "source": [
    "RELAY_URL = \"wss://relay.nostrdice.com\"  # Cambia con l'URL del relay reale\n",
    "RELAY_URL = \"wss://relay.boroghor.com\"  # Cambia con l'URL del relay reale\n",
    "RELAY_URL = \"wss://schnorr.me\"\n",
    "RELAY_URL = \"wss://mastodon.cloud/api/v1/streaming\"\n",
    "async def fetch_events(from_ts: int, to_ts: int):\n",
    "    events = []\n",
    "    subscription_id = str(uuid.uuid4())[:64]\n",
    "    filter_obj = {\n",
    "        # \"since\": from_ts,\n",
    "        # \"until\": to_ts,\n",
    "        # \"limit\": 10\n",
    "    }\n",
    "\n",
    "    async with websockets.connect(RELAY_URL) as ws:\n",
    "        print(f\"Connesso a {RELAY_URL}\")\n",
    "\n",
    "        req_msg = [\"REQ\", subscription_id, filter_obj]\n",
    "        await ws.send(json.dumps(req_msg))\n",
    "        print(f\"Inviato: {req_msg}\")\n",
    "\n",
    "        try:\n",
    "            while True:\n",
    "                raw_message = await asyncio.wait_for(ws.recv(), timeout=30)\n",
    "                message = json.loads(raw_message)\n",
    "\n",
    "                if not isinstance(message, list):\n",
    "                    print(\"Messaggio non valido (non è un array JSON)\")\n",
    "                    continue\n",
    "\n",
    "                msg_type = message[0]\n",
    "\n",
    "                if msg_type == \"EVENT\":\n",
    "                    _, sub_id, event = message\n",
    "                    if sub_id == subscription_id:\n",
    "                        # print(f\"Ricevuto evento: {event}\")\n",
    "                        events.append(event)\n",
    "\n",
    "                elif msg_type == \"EOSE\":\n",
    "                    _, sub_id = message\n",
    "                    if sub_id == subscription_id:\n",
    "                        print(\"Fine degli eventi storici.\")\n",
    "                        break\n",
    "\n",
    "                elif msg_type == \"NOTICE\":\n",
    "                    _, notice = message\n",
    "                    print(f\"NOTICE dal relay: {notice}\")\n",
    "\n",
    "                elif msg_type == \"CLOSED\":\n",
    "                    _, sub_id, reason = message\n",
    "                    if sub_id == subscription_id:\n",
    "                        print(f\"Subscription chiusa dal relay: {reason}\")\n",
    "                        break\n",
    "\n",
    "                elif msg_type == \"OK\":\n",
    "                    _, event_id, accepted, message_str = message\n",
    "                    status = \"accettato\" if accepted else \"rifiutato\"\n",
    "                    print(f\"Evento {event_id} {status} - {message_str}\")\n",
    "\n",
    "                else:\n",
    "                    print(f\"Messaggio sconosciuto: {message}\")\n",
    "\n",
    "        except asyncio.TimeoutError:\n",
    "            print(\"Timeout: nessun messaggio ricevuto per 30 secondi.\")\n",
    "        finally:\n",
    "            close_msg = [\"CLOSE\", subscription_id]\n",
    "            await ws.send(json.dumps(close_msg))\n",
    "            print(\"Subscription chiusa.\")\n",
    "    return events\n",
    "\n",
    "# Esegui in una cella async\n",
    "async def main():\n",
    "    to_time = int(time.time())\n",
    "    from_time = to_time - 600\n",
    "    return await fetch_events(0, 1727090175)\n",
    "\n",
    "events = await main()\n"
   ]
  }
 ],
 "metadata": {
  "kernelspec": {
   "display_name": "venv",
   "language": "python",
   "name": "python3"
  },
  "language_info": {
   "codemirror_mode": {
    "name": "ipython",
    "version": 3
   },
   "file_extension": ".py",
   "mimetype": "text/x-python",
   "name": "python",
   "nbconvert_exporter": "python",
   "pygments_lexer": "ipython3",
   "version": "3.12.3"
  }
 },
 "nbformat": 4,
 "nbformat_minor": 5
}
